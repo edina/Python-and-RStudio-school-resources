{
 "cells": [
  {
   "cell_type": "markdown",
   "metadata": {},
   "source": [
    "![image](https://raw.githubusercontent.com/willtheorangeguy/Python-Logo-Widgets/master/pythonlogogif.gif?raw=true)  "
   ]
  },
  {
   "cell_type": "markdown",
   "metadata": {},
   "source": [
    "# Maths - Chapter 7"
   ]
  },
  {
   "cell_type": "markdown",
   "metadata": {},
   "source": [
    "# Recap"
   ]
  },
  {
   "cell_type": "markdown",
   "metadata": {},
   "source": [
    "<div class = \"alert alert-block alert-success\">\n",
    "Last time we looked at inputs and variables. You:\n",
    "    \n",
    "* Used the **input** function to get information  - a **variable** - from the user\n",
    "* Printed statements combining variables with pre-defined text\n",
    "</div>"
   ]
  },
  {
   "cell_type": "markdown",
   "metadata": {},
   "source": [
    "# Learning Objectives"
   ]
  },
  {
   "cell_type": "markdown",
   "metadata": {},
   "source": [
    "<div class = \"alert alert-block alert-success\">\n",
    "In this chapter, we look at Maths. You will:  \n",
    "    \n",
    "* Learn the symbols for maths operations in Python  \n",
    "* Use the **int** function to convert input to an integer  \n",
    "* Use the **float** function to convert input to a real number with a decimal point  \n",
    "* Write code to define variables and perform calculations e.g. add together three variables  \n",
    "* Use the **print** function to display results"
   ]
  },
  {
   "cell_type": "markdown",
   "metadata": {},
   "source": [
    "## Legend for colours"
   ]
  },
  {
   "cell_type": "markdown",
   "metadata": {},
   "source": [
    "<div class = \"alert alert-block alert-success\">\n",
    "    In <b> green, information </b> and <b> code examples </b> are highlighted.\n",
    "</div>\n"
   ]
  },
  {
   "cell_type": "markdown",
   "metadata": {},
   "source": [
    "<div class = \"alert alert-block alert-info\">\n",
    "In <b> blue, YouTube tutorials </b> are highlighted.\n",
    "</div>\n"
   ]
  },
  {
   "cell_type": "markdown",
   "metadata": {},
   "source": [
    "<div class = \"alert alert-block alert-warning\">\n",
    "In <b> yellow, activities </b> are highlighted.\n",
    "</div>\n"
   ]
  },
  {
   "cell_type": "markdown",
   "metadata": {},
   "source": [
    "# Symbols"
   ]
  },
  {
   "cell_type": "markdown",
   "metadata": {},
   "source": [
    "<div class = \"alert alert-block alert-success\">\n",
    "\n",
    " A list of symbols used for maths in python is given here:  \n",
    "    \n",
    "* \"**+**\"\tAdd  \n",
    "* \"**-**\"\tSubtract \n",
    "* \"<b>*</b>\"\tMultiply  \n",
    "* \"**/**\"\tDivide  \n",
    "* \"**==**\" Equal to  \n",
    "* \"**>**\"\tGreater than\n",
    "* \"**<**\"\tLess than \n",
    "* \"**>=**\" Greater than or equal to  \n",
    "* \"**<=**\" Less than or equal to\n",
    "* \"**!=**\" Not equal to\n",
    "\n",
    "   \n",
    "</div>"
   ]
  },
  {
   "cell_type": "markdown",
   "metadata": {},
   "source": [
    "# 'Add' example"
   ]
  },
  {
   "cell_type": "markdown",
   "metadata": {},
   "source": [
    "<div class = \"alert alert-block alert-success\">\n",
    "Look at this code example:  \n",
    "    \n",
    "    \n",
    "    result = 6 + 2\n",
    "    print(result)  \n",
    "    \n",
    "\n",
    "This code will add the 2 numbers together and store the answer in the ‘result’ variable. It will then print the result (8) on the screen.\n",
    "    \n",
    "</div>"
   ]
  },
  {
   "cell_type": "markdown",
   "metadata": {},
   "source": [
    "<div class = \"alert alert-block alert-info\">\n",
    "\n",
    "## Video tutorial\n",
    "    \n",
    "### Basic maths:\n",
    "\n",
    "The video should appear below - if not select this link to view it in a new browser window: https://www.youtube.com/watch?v=JTW43OZFsZU\n",
    "</div>\n"
   ]
  },
  {
   "cell_type": "code",
   "execution_count": 1,
   "metadata": {},
   "outputs": [
    {
     "data": {
      "image/jpeg": "[encoded data removed]",
      "text/html": [
       "\n",
       "        <iframe\n",
       "            width=\"800\"\n",
       "            height=\"300\"\n",
       "            src=\"https://www.youtube.com/embed/JTW43OZFsZU\"\n",
       "            frameborder=\"0\"\n",
       "            allowfullscreen\n",
       "        ></iframe>\n",
       "        "
      ],
      "text/plain": [
       "<IPython.lib.display.YouTubeVideo at 0x7f9eb00ca280>"
      ]
     },
     "execution_count": 1,
     "metadata": {},
     "output_type": "execute_result"
    }
   ],
   "source": [
    "from IPython.display import YouTubeVideo\n",
    "YouTubeVideo('JTW43OZFsZU', width=800, height=300)"
   ]
  },
  {
   "cell_type": "markdown",
   "metadata": {},
   "source": [
    "# Parentheses "
   ]
  },
  {
   "cell_type": "markdown",
   "metadata": {},
   "source": [
    "<div class = \"alert alert-block alert-success\">\n",
    "Parentheses are also important in Python – just like they are in general maths. **Items inside parentheses are calculated first.**\n",
    "    \n",
    "    x = (10 + 10) * 5\n",
    "    print(result)  \n",
    "    \n",
    "    \n",
    "Here, the (10 + 10) would be calculated first as it is inside parentheses. That result would then be multiplied by 5, giving a final answer of 100, which would be printed on the screen.\n",
    "\n",
    "</div>"
   ]
  },
  {
   "cell_type": "markdown",
   "metadata": {},
   "source": [
    "# Rounding up"
   ]
  },
  {
   "cell_type": "markdown",
   "metadata": {},
   "source": [
    "<div class = \"alert alert-block alert-success\">\n",
    "\n",
    "Sometimes, your mathematical calculations can leave you with a lot of numbers after the decimal point. To round up numbers in Python, you need to use the **round( ) function**.  \n",
    "    \n",
    "    kilogram = 1  \n",
    "    pound = round(kilogram / 2.205, 2)\n",
    "    print(pound)\n",
    "\n",
    "To round up, simply put your equation inside the round( ) function brackets. You can also put a comma after the equation and set how many decimal places you wish to round up to. This example round the result up to 2 decimal places.\n",
    "    </div>\n",
    "    "
   ]
  },
  {
   "cell_type": "markdown",
   "metadata": {},
   "source": [
    "# Type conversion"
   ]
  },
  {
   "cell_type": "markdown",
   "metadata": {},
   "source": [
    "<div class = \"alert alert-block alert-success\">\n",
    " A final thing that you must remember when performing mathematical calculations is that if a user is asked to type in a number to be calculated, it must be converted to an **integer** before the calculation takes place.  \n",
    "    \n",
    "    x = input(\"Enter a number: \")\n",
    "    y = input(\"Enter another number: \")\n",
    "    total = x + y\n",
    "    print(total)  \n",
    "    \n",
    "If the user types in 50 and 100, the result would be 50100. Python simply joined the 2 numbers together and didn’t perform the calculation. This is because Python assumes the data being entered is a string data type – but it needs to be an integer.\n",
    "\n",
    "    x = int(input(\"Enter a number: \"))\n",
    "    y = int(input(\"Enter another number: \"))\n",
    "    total = x + y\n",
    "    print(total)  \n",
    "    \n",
    "If the user types in 50 and 100, the result would be 150. This is because we told Python that whatever the user enters will be classed as integers and it can now perform the calculation as intended.\n",
    "\n",
    "</div>"
   ]
  },
  {
   "cell_type": "markdown",
   "metadata": {},
   "source": [
    "# Activities"
   ]
  },
  {
   "attachments": {
    "program_flowchart_maths.png": {
     "image/png": "[encoded data removed]"
    }
   },
   "cell_type": "markdown",
   "metadata": {},
   "source": [
    "<div class = \"alert alert-block alert-warning\">\n",
    "Before you start the activities, have a look at the flowchart shown in the image below that shows the sequence of actions for your programs:\n",
    "\n",
    "1. Get the inputs, for example obtain 2 numbers from the user.\n",
    "2. Perform the calculation, for example add the 2 numbers together.\n",
    "3. Display the calculation (with the print function).\n",
    "    \n",
    "![program_flowchart_maths.png](attachment:program_flowchart_maths.png)\n",
    "</div>"
   ]
  },
  {
   "cell_type": "markdown",
   "metadata": {},
   "source": [
    "<div class = \"alert alert-block alert-warning\">  \n",
    "    \n",
    "# Activity 9\n",
    "\n",
    "1. Create a new code cell.\n",
    "2. Write a program that asks a user to enter 3 numbers. The program will then add these numbers together and display the result to the user in a full sentence.  \n",
    "    \n",
    "\n",
    "# Steps\n",
    "    \n",
    "1. Select **Insert** and **Insert cell below**.\n",
    "2. Set cell type as **Code**.\n",
    "3. Type:  \n",
    "    \n",
    "        no1 = int(input(\"Enter a number: \"))  \n",
    "        no2 = int(input(\"Enter another number: \"))  \n",
    "        no3 = int(input(\"Enter a third number: \"))  \n",
    "        sum = (no1 + no2 + no3)  \n",
    "        print(\"Your numbers add up to \", sum)  \n",
    "    \n",
    "   \n",
    "4. Select **Run**.\n",
    "    \n",
    "    </div>"
   ]
  },
  {
   "cell_type": "code",
   "execution_count": null,
   "metadata": {},
   "outputs": [],
   "source": [
    "# Example for teacher use\n",
    "\n",
    "no1 = int(input(\"Enter a number: \"))\n",
    "no2 = int(input(\"Enter another number: \"))\n",
    "no3 = int(input(\"Enter a third number: \"))\n",
    "sum = (no1 + no2 + no3)\n",
    "print(\"Your numbers add up to \", sum)"
   ]
  },
  {
   "cell_type": "markdown",
   "metadata": {},
   "source": [
    "<div class = \"alert alert-block alert-warning\">  \n",
    "    \n",
    "# Activity 10\n",
    "\n",
    "Write a program that asks a user for 3 numbers. The program will then perform a calculation where it multiplies the first 2 numbers together and will then subtract the final number from this amount. You will need to use parentheses to complete this calculation successfully. The program will display the result to the user in a full sentence.\n",
    "    \n",
    "    \n",
    "# Steps\n",
    "    \n",
    "1. Select **Insert** and **Insert cell below**.\n",
    "2. Set cell type as **Code**.\n",
    "3. Type:  \n",
    "    \n",
    "        no1 = int(input(\"Enter a number: \"))  \n",
    "        no2 = int(input(\"Enter another number: \"))  \n",
    "        no3 = int(input(\"Enter a third number: \"))  \n",
    "        calc = (no1 * no2) - no3   \n",
    "        print(\"Your calculation is \", calc)    \n",
    "    \n",
    "\n",
    "4. Select **Run**.\n",
    "    \n",
    "    </div>"
   ]
  },
  {
   "cell_type": "code",
   "execution_count": null,
   "metadata": {},
   "outputs": [],
   "source": [
    "# Example for teacher use \n",
    "\n",
    "no1 = int(input(\"Enter a number: \"))  \n",
    "no2 = int(input(\"Enter another number: \"))  \n",
    "no3 = int(input(\"Enter a third number: \"))  \n",
    "calc = (no1 * no2) - no3   \n",
    "print(\"Your calculation is \", calc)  "
   ]
  },
  {
   "cell_type": "markdown",
   "metadata": {},
   "source": [
    "<div class = \"alert alert-block alert-warning\">  \n",
    "    \n",
    "# Activity 11\n",
    "\n",
    "Write a program that will find the area of a rectangle. The user will be required to enter the required dimensions. You may need to research what the formula is. The program will display the result to the user in a full sentence.\n",
    "    \n",
    "In this example we use **float** instead of **int**. This means the user can input the length and/or width values with a decimal point.   \n",
    "\n",
    "# Steps\n",
    "    \n",
    "1. Select **Insert** and **Insert cell below**.\n",
    "2. Set cell type as **Code**.\n",
    "3. Type:  \n",
    "    \n",
    "        length = float(input(\"Enter the length of the rectangle: \"))  \n",
    "        width = float(input(\"Enter the width of the rectangle: \"))  \n",
    "        area = length * width  \n",
    "        print(\"The area of the rectangle is \", area)  \n",
    "    \n",
    "    \n",
    "4. Select **Run**.\n",
    "    \n",
    "    </div>"
   ]
  },
  {
   "cell_type": "code",
   "execution_count": null,
   "metadata": {},
   "outputs": [],
   "source": [
    "# Example for teacher use\n",
    "\n",
    "length = float(input(\"Enter the length of the rectangle: \"))\n",
    "width = float(input(\"Enter the width of the rectangle: \"))\n",
    "area = length * width\n",
    "print(\"The area of the rectangle is\", area)"
   ]
  },
  {
   "cell_type": "markdown",
   "metadata": {},
   "source": [
    "<div class = \"alert alert-block alert-warning\">  \n",
    "    \n",
    "# Activity 12\n",
    "\n",
    "Write a program that converts kilograms into grams. The program will start by asking the user how many kilograms they would like to convert. It will then perform the calculation and display the result in grams. You will need to research what the formula is to convert kilograms into grams. The program will display the result to the user in a full sentence.\n",
    "    \n",
    "\n",
    "# Steps\n",
    "    \n",
    "1. Select **Insert** and **Insert cell below**.\n",
    "2. Set cell type as **Code**.\n",
    "3. Type:  \n",
    "\n",
    "        kilos = float(input(\"How many kilos do you want to convert? \"))  \n",
    "        grams = kilos * 1000  \n",
    "        print(\"Converting\", kilos \"kilos gives\", grams, \"grams\")  \n",
    "    \n",
    "    \n",
    "4. Select **Run**.\n",
    "    \n",
    "    </div>"
   ]
  },
  {
   "cell_type": "code",
   "execution_count": null,
   "metadata": {},
   "outputs": [],
   "source": [
    "# Example for teacher use\n",
    "\n",
    "kilos = float(input(\"How many kilos do you want to convert?\"))\n",
    "grams = kilos * 1000\n",
    "print(\"Converting\", kilos,\" kilos gives\", grams, \"grams\")"
   ]
  },
  {
   "cell_type": "markdown",
   "metadata": {},
   "source": [
    "<div class = \"alert alert-block alert-warning\">  \n",
    "    \n",
    "# Activity 13\n",
    "    \n",
    "Write a program that converts centimetres to inches. The program will start by asking the user for the number of centimetres they wish to convert. It will then perform the calculation and display the result in inches. You will need to research what the formula is to convert centimetres into inches. Round your answer up to 2 decimal places. The program will display the result to the user in a full sentence.\n",
    "\n",
    "# Steps\n",
    "    \n",
    "1. Select **Insert** and **Insert cell below**.\n",
    "2. Set cell type as **Code**.\n",
    "\n",
    "3. Type:  \n",
    "    \n",
    "        cm = float(input(\"How many cm do you want to convert? \"))  \n",
    "        inches = cm / 2.54  \n",
    "        inchesround = str(round(inches, 2))  \n",
    "        print(\"Converting\", cm,\" cm gives\", inchesround, \"inches\")  \n",
    "    \n",
    "4. Select **Run**.\n",
    "    \n",
    "    </div>\n",
    "    "
   ]
  },
  {
   "cell_type": "code",
   "execution_count": null,
   "metadata": {},
   "outputs": [],
   "source": [
    "# Example for teacher use\n",
    "\n",
    "cm = float(input(\"How many cm do you want to convert? \"))\n",
    "inches = round(cm / 2.54)\n",
    "inchesround = str(round(inches,2))\n",
    "print(\"Converting\",cm,\" cm gives\", inchesround, \"inches\")\n"
   ]
  },
  {
   "cell_type": "markdown",
   "metadata": {},
   "source": [
    "[![CC BY 4.0][cc-by-shield]][cc-by] \n",
    "\n",
    "This work is licensed under a \n",
    "\n",
    "[Creative Commons Attribution 4.0 International License][cc-by]. \n",
    "\n",
    "[![CC BY 4.0][cc-by-image]][cc-by] \n",
    "\n",
    "To view a copy of this license, visit http://creativecommons.org/licenses/by/4.0/ or send a letter to Creative Commons, PO Box 1866, Mountain View, CA 94042, USA. \n",
    "\n",
    "[cc-by]: http://creativecommons.org/licenses/by/4.0/ \n",
    "\n",
    "[cc-by-image]: https://i.creativecommons.org/l/by/4.0/88x31.png \n",
    "\n",
    "[cc-by-shield]: https://img.shields.io/badge/License-CC%20BY%204.0-lightgrey.svg "
   ]
  },
  {
   "cell_type": "markdown",
   "metadata": {},
   "source": [
    "![Noteable.ac.uk Banner](https://github.com/jstix/everything-noteable/blob/master/CLPL%20Banner/Header%20for%20Github%20-%20CLPL%20materials%20.png?raw=true)  "
   ]
  }
 ],
 "metadata": {
  "kernelspec": {
   "display_name": "Python 3 (ipykernel)",
   "language": "python",
   "name": "python3"
  },
  "language_info": {
   "codemirror_mode": {
    "name": "ipython",
    "version": 3
   },
   "file_extension": ".py",
   "mimetype": "text/x-python",
   "name": "python",
   "nbconvert_exporter": "python",
   "pygments_lexer": "ipython3",
   "version": "3.9.2"
  }
 },
 "nbformat": 4,
 "nbformat_minor": 2
}
