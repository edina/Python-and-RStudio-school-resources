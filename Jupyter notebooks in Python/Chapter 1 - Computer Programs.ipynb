{
 "cells": [
  {
   "cell_type": "markdown",
   "metadata": {},
   "source": [
    "![image](https://raw.githubusercontent.com/willtheorangeguy/Python-Logo-Widgets/master/pythonlogogif.gif?raw=true)  "
   ]
  },
  {
   "cell_type": "markdown",
   "metadata": {},
   "source": [
    "# Computer Programs - Chapter 1"
   ]
  },
  {
   "cell_type": "markdown",
   "metadata": {},
   "source": [
    "# Learning Objectives"
   ]
  },
  {
   "cell_type": "markdown",
   "metadata": {},
   "source": [
    "<div class = \"alert alert-block alert-success\">  \n",
    "By the end of this chapter, you will be able to:  \n",
    "\n",
    "\n",
    "* Understand that computer programs are instructions written in coding languages  \n",
    "* Discuss why Python is a useful coding language  \n",
    "* Appreciate that computer programs are used in a huge range of machines that we use in everyday life\n",
    "* Identify the benefits of using a notebook to learn Python\n",
    "* Describe the types of jobs open to coders\n",
    "\n",
    "</div>"
   ]
  },
  {
   "cell_type": "markdown",
   "metadata": {},
   "source": [
    "## Legend for colours"
   ]
  },
  {
   "cell_type": "markdown",
   "metadata": {},
   "source": [
    "<div class = \"alert alert-block alert-success\">\n",
    "In <b> green, information and code examples </b> are highlighted.\n",
    "</div>"
   ]
  },
  {
   "cell_type": "markdown",
   "metadata": {},
   "source": [
    "<div class = \"alert alert-block alert-info\">\n",
    "In <b> blue, YouTube tutorials </b> are highlighted.\n",
    "</div>"
   ]
  },
  {
   "cell_type": "markdown",
   "metadata": {},
   "source": [
    "<div class = \"alert alert-block alert-warning\">\n",
    "In <b> yellow, activities </b> are highlighted.\n",
    "</div>"
   ]
  },
  {
   "cell_type": "markdown",
   "metadata": {},
   "source": [
    "# What is a computer program?"
   ]
  },
  {
   "cell_type": "markdown",
   "metadata": {},
   "source": [
    "<div class = \"alert alert-block alert-success\">\n",
    "A computer program is a set of instructions that a computer follows to complete a task. “Coding” or “programming” means writing step-by-step instructions that tell the computer what to do – and this is exactly what you are going to be learning how to do with these notebooks.   \n",
    "    \n",
    "We are surrounded by computer programs – many devices and gadgets we use each day are controlled by them. These machines follow step-by-step instructions written by a computer programmer.\n",
    "\n",
    "* **Cars** - in newer cars, computers run things like the speed, temperature, reversing cameras, amount of fuel left in the tank and can even control braking.\n",
    "* **Gaming consoles** run computer games. They control things like the graphics and the sound.  \n",
    "* **Washing machines** have a built-in computer that controls how hot the water is and how long and fast the wash should be.\n",
    "* **Mobile phones** allow you to make calls or send text messages.\n",
    "* **Electric toothbrushes** tell you how long to brush for and how hard to push against your gums.  \n",
    "    \n",
    "**Can you think of any more examples of items that are run by computer programs?**  \n",
    "    \n",
    "\n",
    "![hand holding a mobile phone](https://github.com/edina/Python-and-RStudio-school-resources/blob/main/Notebook%20images/on-hand-mobile-4603315_1280.png?raw=true)    \n",
    "    \n",
    "\n",
    "    \n",
    "\n",
    "    \n",
    "</div>"
   ]
  },
  {
   "cell_type": "markdown",
   "metadata": {},
   "source": [
    "# How Computers Work"
   ]
  },
  {
   "cell_type": "markdown",
   "metadata": {},
   "source": [
    "<div class = \"alert alert-block alert-success\">\n",
    "Computers might seem like very smart machines, but in reality, they are just boxes that follow instructions very quickly and accurately. As intelligent humans, we can get them to carry out different tasks by writing computer programs (which are just a list of instructions). Computers can only follow these instructions if they are written in a language they understand.  \n",
    "\n",
    "There are lots of programming languages around that computers understand - some are better for different jobs. Some popular examples are: HTML, Java, Python, C#, Ruby; but there are lots more! We will be learning **Python** – the world’s most popular programming language. You can create your own computer program by learning a programming language – which is exactly what we will be doing in this course! \n",
    "\n",
    "![Image of Python code](https://github.com/edina/Python-and-RStudio-school-resources/blob/main/Notebook%20images/python_code.png?raw=true) \n",
    "\n",
    "</div> \n"
   ]
  },
  {
   "cell_type": "markdown",
   "metadata": {},
   "source": [
    "# What is Python?"
   ]
  },
  {
   "cell_type": "markdown",
   "metadata": {},
   "source": [
    "<div class = \"alert alert-block alert-success\">  \n",
    "\n",
    "Python is a very popular and easy-to-learn programming language. It's used in a huge variety of applications and companies, for example:\n",
    "    \n",
    "* Google   \n",
    "    \n",
    "* YouTube  \n",
    "    \n",
    "* Instagram   \n",
    "    \n",
    "* Spotify  \n",
    "    \n",
    "* Netflix  \n",
    "\n",
    "</div>"
   ]
  },
  {
   "cell_type": "markdown",
   "metadata": {},
   "source": [
    "## What can Python do?"
   ]
  },
  {
   "cell_type": "markdown",
   "metadata": {},
   "source": [
    "<div class = \"alert alert-block alert-success\">  \n",
    "•\tPython can be used to create powerful web apps  \n",
    "    \n",
    "•\tPython can be used to handle big data and perform complex mathematics  \n",
    "    \n",
    "•\tPython can be used and is very popular for machine learning (Artificial Intelligence - AI) \n",
    "    \n",
    "•\tPython can connect to databases  \n",
    "    \n",
    "•\tPython can be used for production-ready software development  \n",
    "    \n",
    "</div>"
   ]
  },
  {
   "cell_type": "markdown",
   "metadata": {},
   "source": [
    "## Why Python?\n"
   ]
  },
  {
   "cell_type": "markdown",
   "metadata": {},
   "source": [
    "<div class = \"alert alert-block alert-success\">  \n",
    "•\tPython works on different platforms (Windows, Mac, Linux, Raspberry Pi, etc).  \n",
    "    \n",
    "•\tPython has a simple syntax that is similar to the English language.  \n",
    "    \n",
    "•\tPython allows developers to write programs with fewer lines than most other programming languages – which speeds up the time it takes to write apps.  \n",
    "    \n",
    " </div>"
   ]
  },
  {
   "cell_type": "markdown",
   "metadata": {},
   "source": [
    "## How can I code with Python?"
   ]
  },
  {
   "cell_type": "markdown",
   "metadata": {},
   "source": [
    "<div class = \"alert alert-block alert-success\">  \n",
    "    \n",
    "* When you are starting out with Python, a notebook like this one is ideal. It allows you to write, run and test your code in one place, without installing any other applications. If your code does not work, the notebook will indicate which line(s) of code have problems.\n",
    "\n",
    "* As you get further into your Python journey you may consider installing **Python** to your computer and a **code editor** to write your code. A code editor is a tool that is used to write and edit code. As your programs get more complex, you will likely need to install an IDE.\n",
    "    \n",
    "* An **IDE (Integrated Development Environment)** understands your code much better than a code editor. It usually provides features such as build automation, testing and debugging, which can speed up your work.\n",
    "    \n",
    "</div>\n",
    "\n"
   ]
  },
  {
   "cell_type": "markdown",
   "metadata": {},
   "source": [
    "# Coders"
   ]
  },
  {
   "cell_type": "markdown",
   "metadata": {},
   "source": [
    "<div class = \"alert alert-block alert-success\">\n",
    "Coders are the people who write the programs behind everything we see and do on a computer. When writing computer programs, a coder must learn to think like a computer. All instructions need to be broken down into small chunks so they are easy for the computer to follow.  \n",
    "  \n",
    "    \n",
    "Coders are extremely sought-after. There are a wide range of IT-related jobs that are in high demand, which are creative and rewarding, for example:  \n",
    "\n",
    "1.\tPython Programmer \n",
    "2.\tArtificial Intelligence Specialists \n",
    "3.\tRobotics Engineers \n",
    "4.\tData Scientists \n",
    "5.\tGames Developer  \n",
    "\n",
    "All these jobs require knowledge of coding. Learning how to code in Python is an excellent starting point for a future pathway into any one of these fields.\n",
    "    \n",
    "![Man coding at a computer screen](https://github.com/edina/Python-and-RStudio-school-resources/blob/main/Notebook%20images/man-coding.png?raw=true) \n",
    "    \n",
    "</div>"
   ]
  },
  {
   "cell_type": "markdown",
   "metadata": {},
   "source": [
    "[![CC BY 4.0][cc-by-shield]][cc-by] \n",
    "\n",
    "This work is licensed under a\n",
    "\n",
    "[Creative Commons Attribution 4.0 International License][cc-by]. \n",
    "\n",
    "[![CC BY 4.0][cc-by-image]][cc-by] \n",
    "\n",
    "To view a copy of this license, visit http://creativecommons.org/licenses/by/4.0/ or send a letter to Creative Commons, PO Box 1866, Mountain View, CA 94042, USA. \n",
    "\n",
    "[cc-by]: http://creativecommons.org/licenses/by/4.0/ \n",
    "\n",
    "[cc-by-image]: https://i.creativecommons.org/l/by/4.0/88x31.png \n",
    "\n",
    "[cc-by-shield]: https://img.shields.io/badge/License-CC%20BY%204.0-lightgrey.svg "
   ]
  },
  {
   "cell_type": "markdown",
   "metadata": {},
   "source": [
    "![Noteable.ac.uk Banner](https://github.com/jstix/everything-noteable/blob/master/CLPL%20Banner/Header%20for%20Github%20-%20CLPL%20materials%20.png?raw=true)  "
   ]
  },
  {
   "cell_type": "code",
   "execution_count": null,
   "metadata": {},
   "outputs": [],
   "source": []
  }
 ],
 "metadata": {
  "kernelspec": {
   "display_name": "Python 3 (ipykernel)",
   "language": "python",
   "name": "python3"
  },
  "language_info": {
   "codemirror_mode": {
    "name": "ipython",
    "version": 3
   },
   "file_extension": ".py",
   "mimetype": "text/x-python",
   "name": "python",
   "nbconvert_exporter": "python",
   "pygments_lexer": "ipython3",
   "version": "3.9.2"
  }
 },
 "nbformat": 4,
 "nbformat_minor": 2
}
