{
 "cells": [
  {
   "cell_type": "markdown",
   "metadata": {},
   "source": [
    "![image](https://raw.githubusercontent.com/willtheorangeguy/Python-Logo-Widgets/master/pythonlogogif.gif?raw=true)  "
   ]
  },
  {
   "cell_type": "markdown",
   "metadata": {},
   "source": [
    "# Flowcharts - Chapter 3"
   ]
  },
  {
   "cell_type": "markdown",
   "metadata": {},
   "source": [
    "# Recap"
   ]
  },
  {
   "cell_type": "markdown",
   "metadata": {},
   "source": [
    "<div class = \"alert alert-block alert-success\">  \n",
    "\n",
    "Last time, we looked at algorithms. We covered:\n",
    "    \n",
    " * The purpose of algorithms\n",
    " * Some things that can go wrong in algorithms\n",
    " * Writing the steps required for a simple algorithm\n",
    "    \n",
    "</div>"
   ]
  },
  {
   "cell_type": "markdown",
   "metadata": {},
   "source": [
    "# Learning Objectives"
   ]
  },
  {
   "cell_type": "markdown",
   "metadata": {},
   "source": [
    "<div class = \"alert alert-block alert-success\">  \n",
    "    \n",
    "By the end of this chapter, you will be able to:\n",
    "\n",
    "* Identify the different symbols used in a flowchart\n",
    "* Add a new cell to a notebook\n",
    "* Create a flowchart with an online flowchart tool\n",
    "* Add an image to a notebook\n",
    "    \n",
    "</div>"
   ]
  },
  {
   "cell_type": "markdown",
   "metadata": {},
   "source": [
    "## Legend for colours"
   ]
  },
  {
   "cell_type": "markdown",
   "metadata": {},
   "source": [
    "<div class = \"alert alert-block alert-success\">\n",
    "In <b> green, information and code examples </b> are highlighted.\n",
    "</div>\n"
   ]
  },
  {
   "cell_type": "markdown",
   "metadata": {},
   "source": [
    "<div class = \"alert alert-block alert-info\">\n",
    "In <b> blue, YouTube tutorials </b> are highlighted.\n",
    "</div>\n"
   ]
  },
  {
   "cell_type": "markdown",
   "metadata": {},
   "source": [
    "<div class = \"alert alert-block alert-warning\">\n",
    "In <b> yellow, activities </b> are highlighted.\n",
    "</div>\n"
   ]
  },
  {
   "cell_type": "markdown",
   "metadata": {},
   "source": [
    "# What is a flowchart?"
   ]
  },
  {
   "cell_type": "markdown",
   "metadata": {},
   "source": [
    "<div class = \"alert alert-block alert-success\">  \n",
    "A flowchart is a graphical representation of an algorithm. They are very helpful when it comes to writing a program and explaining the program to others. \n",
    "\n",
    "# Example flowchart\n",
    "An example flowchart is shown in the image below. If the temperature is above 30-degrees Celsius, then we want the air-conditioner turned on. If the temperature is 30 degrees or less, then we will just continue to monitor the temperature.\n",
    "\n",
    "![Flowchart image](https://github.com/edina/Python-and-RStudio-school-resources/blob/main/Notebook%20images/flowchart_example1.png?raw=true)\n",
    "    \n",
    "</div>"
   ]
  },
  {
   "cell_type": "markdown",
   "metadata": {},
   "source": [
    "# Flowchart symbols"
   ]
  },
  {
   "cell_type": "markdown",
   "metadata": {},
   "source": [
    "<div class = \"alert alert-block alert-success\">\n",
    "\n",
    "The basic symbols you will find in a flowchart are outlined below:\n",
    "    \n",
    "## Start/end\n",
    "An oval represents a start or end point\n",
    "\n",
    "![Start/end symbol](https://github.com/edina/Python-and-RStudio-school-resources/blob/main/Notebook%20images/start-end.png?raw=true)\n",
    "    \n",
    "## Arrows  \n",
    "\n",
    "A line is a connector that shows relationships between the representative shapes.  \n",
    "\n",
    "![Arrows symbol](https://github.com/edina/Python-and-RStudio-school-resources/blob/main/Notebook%20images/arrows.png?raw=true)\n",
    "    \n",
    "## Input/output  \n",
    "\n",
    "A parallelogram represents input or output.\n",
    "\n",
    "![Input/output symbol](https://github.com/edina/Python-and-RStudio-school-resources/blob/main/Notebook%20images/input-output.png?raw=true)\n",
    "    \n",
    "## Process\n",
    "\n",
    "A rectangle represents a process.\n",
    "\n",
    "![Process symbol](https://github.com/edina/Python-and-RStudio-school-resources/blob/main/Notebook%20images/process.png?raw=true)\n",
    "\n",
    "## Decision\n",
    "A diamond indicates a decision.\n",
    "\n",
    "![decision symbol](https://github.com/edina/Python-and-RStudio-school-resources/blob/main/Notebook%20images/decision.png?raw=true)\n",
    "    \n",
    " </div>"
   ]
  },
  {
   "cell_type": "markdown",
   "metadata": {},
   "source": [
    "# Activities"
   ]
  },
  {
   "cell_type": "markdown",
   "metadata": {},
   "source": [
    "<div class = \"alert alert-block alert-warning\">\n",
    "\n",
    "# Activity 1  \n",
    "Imagine that you are in the kitchen with your new pet robot. It’s a hot day and you have decided to tell your pet robot to make a glass of Nesquik for you. Remember, your robot has a simple computer brain - it needs to be told exactly how to make a glass of Nesquik for you. This process must be broken down into simple tasks for the robot to perform.  \n",
    "    \n",
    "![Nesquik jar](https://github.com/edina/Python-and-RStudio-school-resources/blob/main/Notebook%20images/nesquik.png?raw=true)\n",
    "    \n",
    "In a new cell in this notebook, write an algorithm (a list of step-by-step instructions) for the robot to make a glass of Nesquik.\n",
    "1. Select **Insert** then **Insert Cell Below.**\n",
    "2. Select the cell type as **Markdown.**\n",
    "3. Use a number followed by a fullstop and a space to create a numbered list (for example **1. Open the fridge**).\n",
    "\n",
    "\n",
    " </div>"
   ]
  },
  {
   "cell_type": "markdown",
   "metadata": {},
   "source": [
    "<div class = \"alert alert-block alert-warning\">\n",
    "    \n",
    "# Activity 2  \n",
    "    \n",
    "Create a flowchart for making a glass of Nesquik. You will be required to turn the algorithm you wrote in activity 1 into a diagram. \n",
    "    \n",
    "* Be sure you are using the correct symbols as shown earlier in this notebook.  \n",
    "* Use the website https://www.draw.io/ to draw your flowchart.  \n",
    "* Once you are finished, export a copy as a PNG file.\n",
    "* Display the file in a new Markdown cell in this notebook. Select **Edit, insert image**.\n",
    "\n",
    "</div>"
   ]
  },
  {
   "cell_type": "markdown",
   "metadata": {},
   "source": [
    "[![CC BY 4.0][cc-by-shield]][cc-by] \n",
    "\n",
    "This work is licensed under a \n",
    "\n",
    "[Creative Commons Attribution 4.0 International License][cc-by]. \n",
    "\n",
    "[![CC BY 4.0][cc-by-image]][cc-by] \n",
    "\n",
    "To view a copy of this license, visit http://creativecommons.org/licenses/by/4.0/ or send a letter to Creative Commons, PO Box 1866, Mountain View, CA 94042, USA. \n",
    "\n",
    "[cc-by]: http://creativecommons.org/licenses/by/4.0/ \n",
    "\n",
    "[cc-by-image]: https://i.creativecommons.org/l/by/4.0/88x31.png \n",
    "\n",
    "[cc-by-shield]: https://img.shields.io/badge/License-CC%20BY%204.0-lightgrey.svg "
   ]
  },
  {
   "cell_type": "markdown",
   "metadata": {},
   "source": [
    "![Noteable.ac.uk Banner](https://github.com/jstix/everything-noteable/blob/master/CLPL%20Banner/Header%20for%20Github%20-%20CLPL%20materials%20.png?raw=true)  "
   ]
  },
  {
   "cell_type": "code",
   "execution_count": null,
   "metadata": {},
   "outputs": [],
   "source": []
  }
 ],
 "metadata": {
  "kernelspec": {
   "display_name": "Python 3 (ipykernel)",
   "language": "python",
   "name": "python3"
  },
  "language_info": {
   "codemirror_mode": {
    "name": "ipython",
    "version": 3
   },
   "file_extension": ".py",
   "mimetype": "text/x-python",
   "name": "python",
   "nbconvert_exporter": "python",
   "pygments_lexer": "ipython3",
   "version": "3.9.2"
  }
 },
 "nbformat": 4,
 "nbformat_minor": 2
}
