{
 "cells": [
  {
   "cell_type": "markdown",
   "metadata": {},
   "source": [
    "![image](https://raw.githubusercontent.com/willtheorangeguy/Python-Logo-Widgets/master/pythonlogogif.gif?raw=true)"
   ]
  },
  {
   "cell_type": "markdown",
   "metadata": {
    "slideshow": {
     "slide_type": "slide"
    }
   },
   "source": [
    "# Lists - Chapter 10"
   ]
  },
  {
   "cell_type": "markdown",
   "metadata": {},
   "source": [
    "# Recap"
   ]
  },
  {
   "cell_type": "markdown",
   "metadata": {},
   "source": [
    "<div class = \"alert alert-block alert-success\">  \n",
    "    \n",
    "Last time we looked at **Loops**. You:\n",
    "\n",
    "* Wrote code to generate random numbers\n",
    "* Wrote code with **While** loops to check a condition and repeat code while the condition is true\n",
    "* Wrote code with **For** loops to check a condition and repeat code a certain number of times whle the condition is true\n",
    "    \n",
    "</div>"
   ]
  },
  {
   "cell_type": "markdown",
   "metadata": {},
   "source": [
    "# Learning Objectives"
   ]
  },
  {
   "cell_type": "markdown",
   "metadata": {},
   "source": [
    "<div class = \"alert alert-block alert-success\">  \n",
    "    \n",
    "In this chapter, we will look at **Lists**. By the end, you will be able to:\n",
    "\n",
    "* Describe the structure of a list in Python; stored inside a variable, inside square brackets, each item separated by a comma\n",
    "* Create a list in Python\n",
    "* Know the functions to use in order to: add and remove items to lists, determine the length of a list, search a list\n",
    "    \n",
    "</div>"
   ]
  },
  {
   "cell_type": "markdown",
   "metadata": {},
   "source": [
    "## Legend for colours"
   ]
  },
  {
   "cell_type": "markdown",
   "metadata": {},
   "source": [
    "<div class = \"alert alert-block alert-success\">\n",
    "In <b> green, information </b> is highlighted.\n",
    "</div>\n"
   ]
  },
  {
   "cell_type": "markdown",
   "metadata": {},
   "source": [
    "<div class = \"alert alert-block alert-info\">\n",
    "In <b> blue, YouTube tutorials </b> are highlighted.\n",
    "</div>\n"
   ]
  },
  {
   "cell_type": "markdown",
   "metadata": {},
   "source": [
    "<div class = \"alert alert-block alert-warning\">\n",
    "In <b> yellow, activities </b> are highlighted.\n",
    "</div>\n"
   ]
  },
  {
   "cell_type": "markdown",
   "metadata": {},
   "source": [
    "## Introduction to Lists"
   ]
  },
  {
   "cell_type": "markdown",
   "metadata": {},
   "source": [
    "<div class = \"alert alert-block alert-success\">\n",
    "\n",
    "In Python, lists are an ordered and changeable sequence of items. Lists are stored in a variable and are written inside of square brackets. Each item is separated by a comma.  \n",
    "    \n",
    "## List example 1\n",
    "  \n",
    "A list containing numbers:  \n",
    "    \n",
    "    numbers= [5, 10, 15, 20]\n",
    "  \n",
    "    \n",
    "## List example 2  \n",
    "A list containing words – notice how each word has quotation marks around them:\n",
    "    \n",
    "    friends = [\"Tom\", \"Terry\", \"Tess\", \"Tash\"]\n",
    "    \n",
    "    \n",
    "</div>\n",
    "\n",
    "    "
   ]
  },
  {
   "cell_type": "markdown",
   "metadata": {},
   "source": [
    "## Displaying items in a list"
   ]
  },
  {
   "cell_type": "markdown",
   "metadata": {},
   "source": [
    "<div class = \"alert alert-block alert-success\">\n",
    "    \n",
    "There are 2 ways to display the items in a list. Each way has a different look when the code is run:\n",
    "    \n",
    "## Method 1  \n",
    "    \n",
    "    print(friends)\n",
    "  \n",
    "When run, this would look like:\n",
    "    ('Tom', 'Terry', 'Tess', 'Tash')\n",
    "\n",
    "## Method 2\n",
    "    \n",
    "    for i in friends:\n",
    "    print(i)\n",
    "\n",
    "When run, this would look like:\n",
    "\n",
    "Tom  \n",
    "Terry  \n",
    "Tess  \n",
    "Tash\n",
    "      \n",
    " \n",
    "</div>\n",
    "    "
   ]
  },
  {
   "cell_type": "markdown",
   "metadata": {},
   "source": [
    "<div class = \"alert alert-block alert-info\">\n",
    "\n",
    "## Video tutorial\n",
    "    \n",
    "### Creating lists:\n",
    "\n",
    "The video should appear below - if not select this link to view it in a new browser window: https://www.youtube.com/watch?v=VgOW_vWv7y4 \n",
    "</div>\n"
   ]
  },
  {
   "cell_type": "code",
   "execution_count": 1,
   "metadata": {},
   "outputs": [
    {
     "data": {
      "image/jpeg": "[encoded data removed]",
      "text/html": [
       "\n",
       "        <iframe\n",
       "            width=\"800\"\n",
       "            height=\"300\"\n",
       "            src=\"https://www.youtube.com/embed/VgOW_vWv7y4\"\n",
       "            frameborder=\"0\"\n",
       "            allowfullscreen\n",
       "        ></iframe>\n",
       "        "
      ],
      "text/plain": [
       "<IPython.lib.display.YouTubeVideo at 0x7fb6e861b160>"
      ]
     },
     "execution_count": 1,
     "metadata": {},
     "output_type": "execute_result"
    }
   ],
   "source": [
    "from IPython.display import YouTubeVideo\n",
    "YouTubeVideo('VgOW_vWv7y4', width=800, height=300)"
   ]
  },
  {
   "cell_type": "markdown",
   "metadata": {},
   "source": [
    "## Adding items to a list"
   ]
  },
  {
   "cell_type": "markdown",
   "metadata": {},
   "source": [
    "<div class = \"alert alert-block alert-info\">\n",
    "\n",
    "## Video tutorial\n",
    "    \n",
    "### Add and remove items from lists:\n",
    "\n",
    "The video should appear below - if not select this link to view it in a new browser window: https://www.youtube.com/watch?v=RAsHmbuAjmw  \n",
    "</div>\n"
   ]
  },
  {
   "cell_type": "code",
   "execution_count": 2,
   "metadata": {},
   "outputs": [
    {
     "data": {
      "image/jpeg": "[encoded data removed]",
      "text/html": [
       "\n",
       "        <iframe\n",
       "            width=\"800\"\n",
       "            height=\"300\"\n",
       "            src=\"https://www.youtube.com/embed/RAsHmbuAjmw\"\n",
       "            frameborder=\"0\"\n",
       "            allowfullscreen\n",
       "        ></iframe>\n",
       "        "
      ],
      "text/plain": [
       "<IPython.lib.display.YouTubeVideo at 0x7fb6e85573a0>"
      ]
     },
     "execution_count": 2,
     "metadata": {},
     "output_type": "execute_result"
    }
   ],
   "source": [
    "from IPython.display import YouTubeVideo\n",
    "YouTubeVideo('RAsHmbuAjmw', width=800, height=300)"
   ]
  },
  {
   "cell_type": "markdown",
   "metadata": {},
   "source": [
    "<div class = \"alert alert-block alert-success\">\n",
    "    \n",
    "To add an item to a list you need to use the **append** function.  \n",
    "    \n",
    "\n",
    "This code would add Tony to the list of friends:  \n",
    "    \n",
    "    \n",
    "    friends.append(\"Tony\")  \n",
    "    \n",
    "       \n",
    "</div>\n",
    "    "
   ]
  },
  {
   "cell_type": "markdown",
   "metadata": {},
   "source": [
    "## Removing an item from a list"
   ]
  },
  {
   "cell_type": "markdown",
   "metadata": {},
   "source": [
    "<div class = \"alert alert-block alert-success\">\n",
    "  \n",
    "To remove an item to a list you need to use the remove function.  \n",
    "\n",
    "This code would remove Tess from the list of friends:  \n",
    "    \n",
    "    friends.remove(\"Tess\")\n",
    "    \n",
    "</div>"
   ]
  },
  {
   "cell_type": "markdown",
   "metadata": {},
   "source": [
    "## Clear a list"
   ]
  },
  {
   "cell_type": "markdown",
   "metadata": {},
   "source": [
    "<div class = \"alert alert-block alert-success\">\n",
    "   \n",
    "To clear a list, which will completely remove every item from it, you need to use the clear function.  \n",
    "\n",
    "This code would remove all items from the friends list:  \n",
    "    \n",
    "    friends.clear()\n",
    "    \n",
    "</div>"
   ]
  },
  {
   "cell_type": "markdown",
   "metadata": {},
   "source": [
    "## Length of a list"
   ]
  },
  {
   "cell_type": "markdown",
   "metadata": {},
   "source": [
    "<div class = \"alert alert-block alert-info\">\n",
    "\n",
    "## Video tutorial\n",
    "    \n",
    "### Determine length and search lists:\n",
    "\n",
    "The video should appear below - if not select this link to view it in a new browser window: https://www.youtube.com/watch?v=w-v7llITERI\n",
    "</div>"
   ]
  },
  {
   "cell_type": "code",
   "execution_count": 3,
   "metadata": {},
   "outputs": [
    {
     "data": {
      "image/jpeg": "[encoded data removed]",
      "text/html": [
       "\n",
       "        <iframe\n",
       "            width=\"800\"\n",
       "            height=\"300\"\n",
       "            src=\"https://www.youtube.com/embed/w-v7llITERI\"\n",
       "            frameborder=\"0\"\n",
       "            allowfullscreen\n",
       "        ></iframe>\n",
       "        "
      ],
      "text/plain": [
       "<IPython.lib.display.YouTubeVideo at 0x7fb6e85577f0>"
      ]
     },
     "execution_count": 3,
     "metadata": {},
     "output_type": "execute_result"
    }
   ],
   "source": [
    "from IPython.display import YouTubeVideo\n",
    "YouTubeVideo('w-v7llITERI', width=800, height=300)"
   ]
  },
  {
   "cell_type": "markdown",
   "metadata": {},
   "source": [
    "<div class = \"alert alert-block alert-success\">\n",
    "    \n",
    "To determine how many items are in a list, you need to use the len function.  \n",
    "\n",
    "This code would tell you how many items are in the friends list:  \n",
    "    \n",
    "    print(len(friends))\n",
    "    \n",
    " </div>\n"
   ]
  },
  {
   "cell_type": "markdown",
   "metadata": {},
   "source": [
    "## Searching a list"
   ]
  },
  {
   "cell_type": "markdown",
   "metadata": {},
   "source": [
    "<div class = \"alert alert-block alert-success\">\n",
    "    \n",
    "It’s also possible to search through a list for a particular item by using the ‘in’ keyword.  \n",
    "    \n",
    "This code would search through the friends list for the word “Tom” and would tell you if he’s in the list or not:  \n",
    "    \n",
    "    if \"Tom\" in friends:\n",
    "        print(\"Yes, Tom is on your friends list.\")\n",
    "    else:\n",
    "        print(\"No, Tom is not on your friends list.\")\n",
    "    \n",
    " </div>\n"
   ]
  },
  {
   "cell_type": "markdown",
   "metadata": {},
   "source": [
    "# Activities"
   ]
  },
  {
   "cell_type": "markdown",
   "metadata": {},
   "source": [
    "<div class = \"alert alert-block alert-warning\">  \n",
    "    \n",
    "# Activity 21\n",
    "\n",
    "1. Create a new code cell.\n",
    "2.\tWrite a program that will create a list showing all the Premier League football teams that are located in London (2021-2022 season). They are:  \n",
    "    \n",
    "•\tArsenal  \n",
    "•\tBrentford  \n",
    "•\tChelsea  \n",
    "•\tCrystal Palace  \n",
    "•\tTottenham Hotspur  \n",
    "•\tWest Ham United   \n",
    "    \n",
    "Once the list is created, use a For loop to display all items inside of the list.\n",
    "\n",
    "\n",
    "# Steps\n",
    "    \n",
    "1. Select **Insert** and **Insert cell below**.\n",
    "2. Set cell type as **Code**.  \n",
    "    \n",
    "       premier_teams_london = ['Arsenal', 'Brentford', 'Chelsea', 'Crystal Palace', 'Tottenham Hotspur', 'West Ham United']\n",
    "       for team in premier_teams_london:\n",
    "            print(team)\n",
    "4. Select **Run**.\n",
    "    \n",
    "    </div>"
   ]
  },
  {
   "cell_type": "code",
   "execution_count": 3,
   "metadata": {},
   "outputs": [
    {
     "name": "stdout",
     "output_type": "stream",
     "text": [
      "Arsenal\n",
      "Brentford\n",
      "Chelsea\n",
      "Crystal Palace\n",
      "Tottenham Hotspur\n",
      "West Ham United\n"
     ]
    }
   ],
   "source": [
    "# Example for teacher use\n",
    "\n",
    "premier_teams_london = [\n",
    "  'Arsenal',\n",
    "  'Brentford', \n",
    "  'Chelsea', \n",
    "  'Crystal Palace', \n",
    "  'Tottenham Hotspur', \n",
    "  'West Ham United'\n",
    "]\n",
    "for team in premier_teams_london:\n",
    "    print(team)"
   ]
  },
  {
   "cell_type": "markdown",
   "metadata": {},
   "source": [
    "<div class = \"alert alert-block alert-warning\">  \n",
    "    \n",
    "# Activity 22\n",
    "\n",
    "\n",
    "1. Add a new code cell.  \n",
    "2.\tWrite a program that will count how many Premier League football teams are from London (in the list you just created in Question 21).\n",
    "    \n",
    "# Steps\n",
    "    \n",
    "1. Select **Insert** and **Insert cell below**.\n",
    "2. Set cell type as **Code**.\n",
    "3. Type:  \n",
    "        \n",
    "        print('There are {} Premier League football teams which are from London'.format( len(premier_teams_london) ))\n",
    "\n",
    "    \n",
    "4. Select **Run**.\n",
    "    \n",
    "    </div>"
   ]
  },
  {
   "cell_type": "code",
   "execution_count": 4,
   "metadata": {},
   "outputs": [
    {
     "name": "stdout",
     "output_type": "stream",
     "text": [
      "There are 6 Premier League football teams which are from London\n"
     ]
    }
   ],
   "source": [
    "# Example for teacher use\n",
    "\n",
    "print('There are {} Premier League football teams which are from London'.format( len(premier_teams_london) ))"
   ]
  },
  {
   "cell_type": "markdown",
   "metadata": {},
   "source": [
    "<div class = \"alert alert-block alert-warning\">  \n",
    "    \n",
    "# Activity 23\n",
    "\n",
    "1. Add a new code cell below.  \n",
    "2. Write a program that will allow a user to search for a Premier League team in the list that was created earlier. If the team they search for is in the list, then print a message to tell them this. If the team is not in the list, print a different message that tells them this.\n",
    "\n",
    "# Steps\n",
    "    \n",
    "1. Select **Insert** and **Insert cell below**.\n",
    "2. Set cell type as **Code**.\n",
    "3. Type:  \n",
    "\n",
    "        team = input('Enter a Premier League football team to search for:')\n",
    "        if team in premier_teams_london:\n",
    "            print('Team {} is in the list'.format(team))\n",
    "        else:\n",
    "            print('Team {} is not in the list'.format(team))\n",
    "    \n",
    "4. Select **Run**.\n",
    "    \n",
    "    </div>"
   ]
  },
  {
   "cell_type": "code",
   "execution_count": null,
   "metadata": {},
   "outputs": [],
   "source": [
    "# Example for teacher use\n",
    "\n",
    "team = input('Enter a Premier League football team based in London to search for:')\n",
    "if team in premier_teams_london:\n",
    "    print('Team {} is in the list'.format(team))\n",
    "else:\n",
    "    print('Team {} is not in the list'.format(team))"
   ]
  },
  {
   "cell_type": "markdown",
   "metadata": {},
   "source": [
    "[![CC BY 4.0][cc-by-shield]][cc-by] \n",
    "\n",
    "This work is licensed under a \n",
    "\n",
    "[Creative Commons Attribution 4.0 International License][cc-by]. \n",
    "\n",
    "[![CC BY 4.0][cc-by-image]][cc-by] \n",
    "\n",
    "To view a copy of this license, visit http://creativecommons.org/licenses/by/4.0/ or send a letter to Creative Commons, PO Box 1866, Mountain View, CA 94042, USA. \n",
    "\n",
    "[cc-by]: http://creativecommons.org/licenses/by/4.0/ \n",
    "\n",
    "[cc-by-image]: https://i.creativecommons.org/l/by/4.0/88x31.png \n",
    "\n",
    "[cc-by-shield]: https://img.shields.io/badge/License-CC%20BY%204.0-lightgrey.svg "
   ]
  },
  {
   "cell_type": "markdown",
   "metadata": {},
   "source": [
    "![Noteable.ac.uk Banner](https://github.com/jstix/everything-noteable/blob/master/CLPL%20Banner/Header%20for%20Github%20-%20CLPL%20materials%20.png?raw=true)  "
   ]
  },
  {
   "cell_type": "code",
   "execution_count": null,
   "metadata": {},
   "outputs": [],
   "source": []
  },
  {
   "cell_type": "code",
   "execution_count": null,
   "metadata": {},
   "outputs": [],
   "source": []
  }
 ],
 "metadata": {
  "kernelspec": {
   "display_name": "Python 3 (ipykernel)",
   "language": "python",
   "name": "python3"
  },
  "language_info": {
   "codemirror_mode": {
    "name": "ipython",
    "version": 3
   },
   "file_extension": ".py",
   "mimetype": "text/x-python",
   "name": "python",
   "nbconvert_exporter": "python",
   "pygments_lexer": "ipython3",
   "version": "3.9.2"
  }
 },
 "nbformat": 4,
 "nbformat_minor": 2
}
