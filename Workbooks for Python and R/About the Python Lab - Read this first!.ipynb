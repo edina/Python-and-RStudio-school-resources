{
 "cells": [
  {
   "cell_type": "markdown",
   "id": "beneficial-florence",
   "metadata": {},
   "source": [
    "![image](https://raw.githubusercontent.com/willtheorangeguy/Python-Logo-Widgets/master/pythonlogogif.gif?raw=true)  "
   ]
  },
  {
   "cell_type": "markdown",
   "id": "threatened-counter",
   "metadata": {},
   "source": [
    "# What is the Python Programming Lab?"
   ]
  },
  {
   "cell_type": "markdown",
   "id": "narrow-story",
   "metadata": {},
   "source": [
    "<div class = \"alert alert-block alert-success\">  \n",
    "The Python Programming Lab is designed to introduce you to the building blocks of coding with Python.  \n",
    "    \n",
    "* There are 11 chapters, each in a different Python notebook, for you to work through.  \n",
    "* Each chapter has information, code examples, links to YouTube tutorials and activities to complete.  \n",
    "* You complete the activities by adding new code cells within the notebook and typing in your code.  \n",
    "</div>"
   ]
  },
  {
   "cell_type": "markdown",
   "id": "deadly-entertainment",
   "metadata": {},
   "source": [
    "# Cell colours"
   ]
  },
  {
   "cell_type": "markdown",
   "id": "going-gathering",
   "metadata": {},
   "source": [
    "The cells in each notebook have different colours:   \n"
   ]
  },
  {
   "cell_type": "markdown",
   "id": "universal-seller",
   "metadata": {},
   "source": [
    "<div class = \"alert alert-block alert-success\">\n",
    "In <b> green, information </b> is highlighted.\n",
    "</div>\n"
   ]
  },
  {
   "cell_type": "markdown",
   "id": "lasting-humor",
   "metadata": {},
   "source": [
    "<div class = \"alert alert-block alert-info\">\n",
    "In <b> blue, YouTube tutorials </b> are highlighted.\n",
    "</div>\n"
   ]
  },
  {
   "cell_type": "markdown",
   "id": "exceptional-lingerie",
   "metadata": {},
   "source": [
    "<div class = \"alert alert-block alert-warning\">\n",
    "In <b> yellow, activities </b> are highlighted.\n",
    "</div>\n"
   ]
  },
  {
   "cell_type": "markdown",
   "id": "direct-procedure",
   "metadata": {},
   "source": [
    "# What is a notebook?"
   ]
  },
  {
   "cell_type": "markdown",
   "id": "ignored-supply",
   "metadata": {},
   "source": [
    "<div class = \"alert alert-block alert-success\">  \n",
    "Noteable provides Jupyter notebooks. The notebooks let you code in your internet browser and run and test your code straight away. You do not need to download and install different applications to start coding. \n",
    "</div>"
   ]
  },
  {
   "cell_type": "markdown",
   "id": "patient-implement",
   "metadata": {},
   "source": [
    "# What are the different cell types?"
   ]
  },
  {
   "cell_type": "markdown",
   "id": "architectural-montana",
   "metadata": {},
   "source": [
    "<div class = \"alert alert-block alert-success\">  \n",
    "\n",
    "When you insert new cells, you select what type of cell it is: \n",
    "    \n",
    "* **Code** cells are where you type your code.\n",
    "* **Markdown** cells are where you type information or add images or links to other sites. Markdown is a simple markup language - that means it tells the computer how to display your text. Check the useful links if you want to find out more about Markdown.\n",
    "* **Heading** cells are used to display a heading for a section of the notebook.\n",
    "* **Raw NBConvert** cells are used if you want to convert the notebook to display it elsewhere - we will not ask you to use them in this lab.\n",
    "    \n",
    "</div>"
   ]
  },
  {
   "cell_type": "markdown",
   "id": "extraordinary-credits",
   "metadata": {},
   "source": [
    "# Glossary of Python terms"
   ]
  },
  {
   "cell_type": "markdown",
   "id": "tight-terror",
   "metadata": {},
   "source": [
    "<div class = \"alert alert-block alert-success\">    \n",
    "    \n",
    "W3C Schools provide a [useful glossary of Python terminology](https://www.w3schools.com/python/python_ref_glossary.asp).  \n",
    "\n",
    "</div>"
   ]
  },
  {
   "cell_type": "markdown",
   "id": "norman-barbados",
   "metadata": {},
   "source": [
    "# Note your progress"
   ]
  },
  {
   "cell_type": "markdown",
   "id": "sexual-swing",
   "metadata": {},
   "source": [
    "<div class = \"alert alert-block alert-success\">  \n",
    "Keep a note of all the exercises you try in the different chapters. The code cell under this one has a list of all the activities. Select the cell and select **Run**. Check the box next to each exercise. Your teacher will ask to see this, so remember to do it!  \n",
    "</div>"
   ]
  },
  {
   "cell_type": "code",
   "execution_count": 1,
   "id": "advance-castle",
   "metadata": {},
   "outputs": [
    {
     "data": {
      "application/vnd.jupyter.widget-view+json": {
       "model_id": "348e945cd5b4420ca3cd320785aaae80",
       "version_major": 2,
       "version_minor": 0
      },
      "text/plain": [
       "VBox(children=(Checkbox(value=False, description='1 – Algorithm'), Checkbox(value=False, description='2 – Flow…"
      ]
     },
     "metadata": {},
     "output_type": "display_data"
    }
   ],
   "source": [
    "import ipywidgets as widgets\n",
    "data = [\"1 – Algorithm\", \"2 – Flowchart\", \"3 – Full Name\", \"4 – Joke\", \"5 – Multi-Line Message\", \"6 – Middle Name\", \"7 – Happy Birthday\", \"8 – Favourites\", \"9 – Addition\", \"10 – Maths\", \"11 – Rectangle\", \"12 – Grams\", \"13 – Inches\", \"14 – Capital\", \"15 - Exam Result (including flowchart)\", \"16 – Phone\", \"17 – While Loop\", \"18 – Guessing Game\", \"19 – Count to 100\", \"20 – Password\", \"21 – Premier League List\", \"22 – Premier League Count\", \"23 – Premier League Search\", \"24 – Quiz\"]\n",
    "checkboxes = [widgets.Checkbox(value=False, description=label) for label in data]\n",
    "output = widgets.VBox(children=checkboxes)\n",
    "display(output)"
   ]
  },
  {
   "cell_type": "markdown",
   "id": "exclusive-armstrong",
   "metadata": {},
   "source": [
    "# Useful links"
   ]
  },
  {
   "cell_type": "markdown",
   "id": "medium-optimum",
   "metadata": {},
   "source": [
    "<div class = \"alert alert-block alert-success\">    \n",
    "\n",
    "Find links to helpful sites and books for learning Python:  \n",
    "\n",
    "## Online learning  \n",
    "    \n",
    "[**Codeacademy**](https://www.codecademy.com/) - an online interactive platform that offers coding classes in 12 different programming languages, including Python.\n",
    "\n",
    "[**W3Schools**](https://www.w3schools.com/python/default.asp) – a very useful website that offers tutorials, online demonstrations and code snippets for you to use in your coding projects.\n",
    "\n",
    "[**YouTube**](https://www.youtube.com/) – if you like watching video tutorials, head over to YouTube and simply do a search for some beginner Python tutorials. In the notebooks, we link to videos from this channel – [**Geek Tutorials.**](https://www.youtube.com/playlist?list=PLS9qLR8VoFA4XkW9JqP5cBQSUAtk0LlQ-)\n",
    "    \n",
    "    \n",
    "\n",
    "## Books\n",
    "    \n",
    "    [**Coding Projects in Python**](https://www.amazon.com.au/Coding-Projects-Python-Dorling-Kindersley/dp/1465461884) – a great book that will teach you how to code in Python. It uses bright colours and easy-to-follow instructions to make learning to code loads of fun.\n",
    "\n",
    "    \n",
    "[**Python for Kids**](https://www.amazon.com.au/Python-Kids-Jason-Briggs/dp/1593274076) – an easy-to-read book that teaches kids how to code in Python.\n",
    "\n",
    "\n",
    "## About Python\n",
    "[**Python**](https://www.python.org/) – the official website of Python. Download the official Python editor and read some fairly in-depth documentation about Python - if that’s your thing.\n",
    "\n",
    "    \n",
    "## Computers  \n",
    "    \n",
    "[**micro:bit**](https://microbit.org/) – a tiny, programmable computer that is great to learn coding on. \n",
    "\n",
    "[**Raspberry Pi**](https://www.raspberrypi.org/) Raspberry Pi – a pocket sized computer that is brilliant for learning how to code in Python. It’s full of different apps you can play with, including learning to code with Minecraft.\n",
    "    \n",
    "## Markdown guide\n",
    "\n",
    "[**Guide to Markdown syntax.**](https://www.markdownguide.org/basic-syntax/)\n",
    "\n",
    "</div>"
   ]
  },
  {
   "cell_type": "markdown",
   "id": "breathing-liberty",
   "metadata": {},
   "source": [
    "# Credits"
   ]
  },
  {
   "cell_type": "markdown",
   "id": "conservative-gothic",
   "metadata": {},
   "source": [
    "<div class = \"alert alert-block alert-success\">   \n",
    "The Python Programming Lab has been converted and adapted from teaching documents used by Scottish Computing Science teachers\n",
    "</div>"
   ]
  },
  {
   "cell_type": "markdown",
   "id": "cubic-prince",
   "metadata": {},
   "source": [
    "[![CC BY 4.0][cc-by-shield]][cc-by] \n",
    "\n",
    "This work is licensed under a \n",
    "\n",
    "[Creative Commons Attribution 4.0 International License][cc-by]. \n",
    "\n",
    "[![CC BY 4.0][cc-by-image]][cc-by] \n",
    "\n",
    "To view a copy of this license, visit http://creativecommons.org/licenses/by/4.0/ or send a letter to Creative Commons, PO Box 1866, Mountain View, CA 94042, USA. \n",
    "\n",
    "[cc-by]: http://creativecommons.org/licenses/by/4.0/ \n",
    "\n",
    "[cc-by-image]: https://i.creativecommons.org/l/by/4.0/88x31.png \n",
    "\n",
    "[cc-by-shield]: https://img.shields.io/badge/License-CC%20BY%204.0-lightgrey.svg "
   ]
  },
  {
   "cell_type": "markdown",
   "id": "listed-showcase",
   "metadata": {},
   "source": [
    "![Noteable.ac.uk Banner](https://github.com/jstix/everything-noteable/blob/master/CLPL%20Banner/Header%20for%20Github%20-%20CLPL%20materials%20.png?raw=true)  "
   ]
  },
  {
   "cell_type": "code",
   "execution_count": null,
   "id": "tracked-crossing",
   "metadata": {},
   "outputs": [],
   "source": []
  }
 ],
 "metadata": {
  "kernelspec": {
   "display_name": "Python 3 (ipykernel)",
   "language": "python",
   "name": "python3"
  },
  "language_info": {
   "codemirror_mode": {
    "name": "ipython",
    "version": 3
   },
   "file_extension": ".py",
   "mimetype": "text/x-python",
   "name": "python",
   "nbconvert_exporter": "python",
   "pygments_lexer": "ipython3",
   "version": "3.9.2"
  }
 },
 "nbformat": 4,
 "nbformat_minor": 5
}
