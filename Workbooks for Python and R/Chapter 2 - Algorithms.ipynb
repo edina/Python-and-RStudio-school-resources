{
 "cells": [
  {
   "cell_type": "markdown",
   "metadata": {},
   "source": [
    "![image](https://raw.githubusercontent.com/willtheorangeguy/Python-Logo-Widgets/master/pythonlogogif.gif?raw=true)  "
   ]
  },
  {
   "cell_type": "markdown",
   "metadata": {},
   "source": [
    "# Algorithms - Chapter 2"
   ]
  },
  {
   "cell_type": "markdown",
   "metadata": {},
   "source": [
    "# Recap"
   ]
  },
  {
   "cell_type": "markdown",
   "metadata": {},
   "source": [
    "<div class = \"alert alert-block alert-success\">  \n",
    "    \n",
    "Last time, we looked at computer programs. We covered that:\n",
    "    \n",
    "* Computer programs are instructions written in coding languages\n",
    "* Python is a useful language as it has a simple syntax, works on different platforms and you can write programs with fewer lines of code than other languages  \n",
    "* A notebook is useful when learning Python as you can write and test code all in one place \n",
    "* Computer programs are lists of instructions that are used in many everyday appliances\n",
    "    \n",
    "</div>"
   ]
  },
  {
   "cell_type": "markdown",
   "metadata": {},
   "source": [
    "# Learning Objectives"
   ]
  },
  {
   "cell_type": "markdown",
   "metadata": {},
   "source": [
    "<div class = \"alert alert-block alert-success\">\n",
    "    \n",
    " By the end of this chapter, you will be able to:  \n",
    "    \n",
    " * Describe the purpose of an algorithm\n",
    " * Identify what can go wrong in an algorithm\n",
    " * Write the steps required for a simple algorithm\n",
    "    \n",
    "</div>"
   ]
  },
  {
   "cell_type": "markdown",
   "metadata": {},
   "source": [
    "## Legend for colours"
   ]
  },
  {
   "cell_type": "markdown",
   "metadata": {},
   "source": [
    "<div class = \"alert alert-block alert-success\">\n",
    "In <b> green, information and code examples</b> are highlighted.\n",
    "</div>\n"
   ]
  },
  {
   "cell_type": "markdown",
   "metadata": {},
   "source": [
    "<div class = \"alert alert-block alert-info\">\n",
    "In <b> blue <b>, YouTube tutorials </b> are highlighted.\n",
    "</div>\n"
   ]
  },
  {
   "cell_type": "markdown",
   "metadata": {},
   "source": [
    "<div class = \"alert alert-block alert-warning\">\n",
    "In <b> yellow, activities </b> are highlighted.\n",
    "</div>\n"
   ]
  },
  {
   "cell_type": "markdown",
   "metadata": {},
   "source": [
    "# What are algorithms?"
   ]
  },
  {
   "cell_type": "markdown",
   "metadata": {},
   "source": [
    "<div class = \"alert alert-block alert-success\">.In programming, algorithms are a set of step-by-step instructions that tell a computer precisely what steps to take to solve a problem or reach a goal. They are very much like a recipe.  \n",
    "    \n",
    "## Change a light bulb example  \n",
    "\n",
    "If we were to write an algorithm for changing a light bulb, what would it look like? What problems do you have to consider? How many steps are necessary? What is the most efficient method?  \n",
    "\n",
    "Using the following algorithm, what problems may occur?  \n",
    "\n",
    "1.\tRetrieve spare bulb.\n",
    "2.\tTurn off switch powering current bulb.\n",
    "3.\tUnscrew current bulb.\n",
    "4.\tScrew in spare bulb.\n",
    "5.\tTurn on switch powering new bulb.\n",
    "6.\tIf spare bulb does not turn on, repeat steps 1 through 5.\n",
    "\n",
    "# What might go wrong?  \n",
    " \n",
    "Before you start programming the algorithm, you need to understand what could go wrong with the steps you’ve designed because computers are only as smart as you program them to be. There are several problems with this algorithm. Most notably between steps 2 and 3, where we try to replace the bulb. Did you check to see if the bulb was too hot to touch? In this case we did not, so anybody following this algorithm directly could get burned. As humans, basic instincts take over, and we would stop touching it, but computers will continue to perform the task they’re told. \n",
    "\n",
    "Other glaring problems would include checking the replacement bulb being the correct type, and what to do with the bulb that we just replaced. The algorithm doesn’t specify a step to dispose of it properly, so do we just leave it in our hand forever? These are steps we need to consider when replacing a bulb. \n",
    "\n",
    "When you begin to build your own algorithms, you need to not only make sure the algorithm works but that you’ve thought of how to handle error-prone situations. You should also be looking to make your algorithms as efficient as possible – meaning you use as few lines of code as possible.\n",
    "\n",
    "    \n",
    "</div>\n"
   ]
  },
  {
   "cell_type": "markdown",
   "metadata": {},
   "source": [
    "# Algorithm Example"
   ]
  },
  {
   "cell_type": "markdown",
   "metadata": {},
   "source": [
    "<div class = \"alert alert-block alert-success\">  \n",
    "    \n",
    "Imagine that you are in the kitchen with your new pet robot.  \n",
    "    \n",
    "Your robot has a simple computer brain – it needs to be told exactly how to make a peanut butter sandwich for you.  \n",
    "\n",
    "This process must be broken down into simple tasks for the robot to perform. \n",
    "    </div>\n"
   ]
  },
  {
   "cell_type": "markdown",
   "metadata": {},
   "source": [
    "## Robot Program 1"
   ]
  },
  {
   "cell_type": "markdown",
   "metadata": {},
   "source": [
    "<div class = \"alert alert-block alert-success\">\n",
    "    \n",
    "1. Pick up knife\n",
    "    \n",
    "2. Put knife in jar\n",
    "    \n",
    "3. Spread peanut butter on to bread  \n",
    "\n",
    "  \n",
    "Using these instructions, the robot picks up a knife but can’t dip the knife into the jar of peanut butter as the lid is still on.  \n",
    "\n",
    "**This algorithm (another name for a set of instructions) was not detailed enough. Let’s try again!**  \n",
    "    \n",
    "![robot image](https://github.com/edina/Python-and-RStudio-school-resources/blob/main/Notebook%20images/robot1.png?raw=true)  \n",
    "    \n",
    "    \n",
    "</div>"
   ]
  },
  {
   "cell_type": "markdown",
   "metadata": {},
   "source": [
    "## Robot Program 2"
   ]
  },
  {
   "cell_type": "markdown",
   "metadata": {},
   "source": [
    "<div class = \"alert alert-block alert-success\">  \n",
    "    \n",
    "    \n",
    "1. Open jar of peanut butter\n",
    "   \n",
    "2. Pick up knife and put it into jar to get a scoop of peanut butter\n",
    "    \n",
    "3. Spread peanut butter on to bread  \n",
    "    \n",
    "Using these instructions, the robot picks up a knife and manages to bring out a scoop of peanut butter on the end of it.  \n",
    "\n",
    "It runs into trouble in the final step as the bread is still in its packet and cannot spread it. **Let’s try again!**\n",
    "    \n",
    "![robot image](https://github.com/edina/Python-and-RStudio-school-resources/blob/main/Notebook%20images/robot2.png?raw=true)  \n",
    "    \n",
    "</div>\n",
    "\n"
   ]
  },
  {
   "cell_type": "markdown",
   "metadata": {},
   "source": [
    "## Robot Program 3"
   ]
  },
  {
   "cell_type": "markdown",
   "metadata": {},
   "source": [
    "<div class = \"alert alert-block alert-success\">  \n",
    "    \n",
    "    \n",
    "1. Open jar of peanut butter and packet of bread\n",
    "    \n",
    "2. Take out 2 pieces of bread and lie them flat on the bench\n",
    "    \n",
    "3. Pick up knife and dip it into jar to get a scoop of peanut butter\n",
    "    \n",
    "4. Evenly spread peanut butter on to one piece of bread\n",
    "    \n",
    "5. Put the other piece of bread on top of the one with peanut butter\n",
    "    \n",
    "6. Pick up sandwich and give to your owner\n",
    "    \n",
    "This final algorithm looks detailed enough to allow the robot to make a peanut butter sandwich and give it to its owner. You could add more detail if you wanted, but for this example, this is enough depth.\n",
    "    \n",
    "![robot image](https://github.com/edina/Python-and-RStudio-school-resources/blob/main/Notebook%20images/robot3.png?raw=true)  \n",
    "    \n",
    "</div>\n"
   ]
  },
  {
   "cell_type": "markdown",
   "metadata": {},
   "source": [
    "[![CC BY 4.0][cc-by-shield]][cc-by] \n",
    "\n",
    "This work is licensed under a \n",
    "\n",
    "[Creative Commons Attribution 4.0 International License][cc-by]. \n",
    "\n",
    "[![CC BY 4.0][cc-by-image]][cc-by] \n",
    "\n",
    "To view a copy of this license, visit http://creativecommons.org/licenses/by/4.0/ or send a letter to Creative Commons, PO Box 1866, Mountain View, CA 94042, USA. \n",
    "\n",
    "[cc-by]: http://creativecommons.org/licenses/by/4.0/ \n",
    "\n",
    "[cc-by-image]: https://i.creativecommons.org/l/by/4.0/88x31.png \n",
    "\n",
    "[cc-by-shield]: https://img.shields.io/badge/License-CC%20BY%204.0-lightgrey.svg "
   ]
  },
  {
   "cell_type": "markdown",
   "metadata": {},
   "source": [
    "![Noteable.ac.uk Banner](https://github.com/jstix/everything-noteable/blob/master/CLPL%20Banner/Header%20for%20Github%20-%20CLPL%20materials%20.png?raw=true)  "
   ]
  },
  {
   "cell_type": "code",
   "execution_count": null,
   "metadata": {},
   "outputs": [],
   "source": []
  }
 ],
 "metadata": {
  "kernelspec": {
   "display_name": "Python 3 (ipykernel)",
   "language": "python",
   "name": "python3"
  },
  "language_info": {
   "codemirror_mode": {
    "name": "ipython",
    "version": 3
   },
   "file_extension": ".py",
   "mimetype": "text/x-python",
   "name": "python",
   "nbconvert_exporter": "python",
   "pygments_lexer": "ipython3",
   "version": "3.9.2"
  }
 },
 "nbformat": 4,
 "nbformat_minor": 2
}
