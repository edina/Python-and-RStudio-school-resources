{
 "cells": [
  {
   "cell_type": "markdown",
   "id": "worldwide-austria",
   "metadata": {},
   "source": [
    "# Activity 1"
   ]
  },
  {
   "cell_type": "markdown",
   "id": "numerous-airplane",
   "metadata": {},
   "source": [
    "<div class = \"alert alert-block alert-warning\">\n",
    "    \n",
    "Imagine that you are in the kitchen with your new pet robot. It’s a hot day and you have decided to tell your pet robot to make a glass of Nesquik for you. Remember, your robot has a simple computer brain - it needs to be told exactly how to make a glass of Nesquik for you. This process must be broken down into simple tasks for the robot to perform.  \n",
    "    \n",
    "![Nesquik jar](https://github.com/edina/Python-and-RStudio-school-resources/blob/main/Notebook%20images/nesquik.png?raw=true)\n",
    "    \n",
    "In a new cell in this notebook, write an algorithm (a list of step-by-step instructions) for the robot to make a glass of Nesquik.\n",
    "1. Select **Insert** then **Insert Cell Below.**\n",
    "2. Select the cell type as **Markdown.**\n",
    "3. Use a number followed by a fullstop and a space to create a numbered list (for example **1. Open the fridge**).\n",
    "\n",
    "\n",
    " </div>"
   ]
  },
  {
   "cell_type": "markdown",
   "id": "expressed-station",
   "metadata": {},
   "source": [
    "# Activity 2"
   ]
  },
  {
   "cell_type": "markdown",
   "id": "express-california",
   "metadata": {},
   "source": [
    "<div class = \"alert alert-block alert-warning\">\n",
    "     \n",
    "Create a flowchart for making a glass of Nesquik. You will be required to turn the algorithm you wrote in activity 1 into a diagram. \n",
    "    \n",
    "* Be sure you are using the correct symbols as shown earlier in this notebook.  \n",
    "* Use the website https://www.draw.io/ to draw your flowchart.  \n",
    "* Once you are finished, export a copy as a PNG file.\n",
    "* Display the file in a new Markdown cell in this notebook. Select **Edit, insert image**.\n",
    "\n",
    "</div>"
   ]
  },
  {
   "cell_type": "markdown",
   "id": "manual-guide",
   "metadata": {},
   "source": [
    "# Activity 3"
   ]
  },
  {
   "cell_type": "markdown",
   "id": "electoral-window",
   "metadata": {},
   "source": [
    "<div class = \"alert alert-block alert-warning\">  \n",
    "    \n",
    "Create a code cell that writes your full name on the screen, similar to the example below.\n",
    "    \n",
    "NOTE: Type your text within double quotation marks. \"\"\n",
    "    \n",
    "## Example\n",
    "    print(\"My full name is John Bob Smith.\")\n",
    "\n",
    "# Steps\n",
    "    \n",
    "1. Select **Insert** and **Insert cell below**.\n",
    "2. Set cell type as **Code**.\n",
    "3. Type:\n",
    "         print(\"My full name is...\")  \n",
    "    \n",
    "4. Select **Run**.\n",
    "    \n",
    "    </div>"
   ]
  },
  {
   "cell_type": "code",
   "execution_count": 3,
   "id": "legendary-impression",
   "metadata": {},
   "outputs": [
    {
     "name": "stdout",
     "output_type": "stream",
     "text": [
      "My full name is Bart Simpson.\n"
     ]
    }
   ],
   "source": [
    "print(\"My full name is Bart Simpson.\")"
   ]
  },
  {
   "cell_type": "markdown",
   "id": "widespread-crowd",
   "metadata": {},
   "source": [
    "# Activity 4"
   ]
  },
  {
   "cell_type": "markdown",
   "id": "alert-rogers",
   "metadata": {},
   "source": [
    "<div class = \"alert alert-block alert-warning\">  \n",
    "Write a code cell that displays a quick joke over 2 lines, similar to that shown in the image below.\n",
    "\n",
    "NOTE: Type your joke within 3 single quotation marks. Select enter where you want the new line.\n",
    "\n",
    "## Steps\n",
    "Select Insert and Insert cell below.  \n",
    "Set cell type as Code.  \n",
    "Type: \n",
    "    \n",
    "    print('''Why did the chicken cross the road? \n",
    "    To get to the other side!''')  \n",
    "Select Run.\n",
    " </div>"
   ]
  },
  {
   "cell_type": "code",
   "execution_count": 2,
   "id": "resistant-swiss",
   "metadata": {},
   "outputs": [
    {
     "name": "stdout",
     "output_type": "stream",
     "text": [
      "Why did the chicken cross the road? \n",
      "To get to the other side!\n"
     ]
    }
   ],
   "source": [
    "print('''Why did the chicken cross the road? \n",
    "To get to the other side!''')     "
   ]
  },
  {
   "cell_type": "markdown",
   "id": "turned-office",
   "metadata": {},
   "source": [
    "# Activity 5"
   ]
  },
  {
   "cell_type": "markdown",
   "id": "historic-simon",
   "metadata": {},
   "source": [
    "<div class = \"alert alert-block alert-warning\">  \n",
    "Write a code cell that displays the following multi-line message, similar to that shown in the image below.\n",
    "\n",
    "KEEP CALM and CODE PYTHON\n",
    "\n",
    "NOTES:\n",
    "\n",
    "Type the words within 3 single quotes.\n",
    "Select enter where you want a new line.\n",
    "Steps\n",
    "Select Insert and Insert cell below.\n",
    "\n",
    "Set cell type as Code.\n",
    "\n",
    "Type:\n",
    "\n",
    "     print('''KEEP  \n",
    "     CALM  \n",
    "     and  \n",
    "     CODE  \n",
    "     PYTHON''')  \n",
    "Select Run.\n",
    "    \n",
    "</div>"
   ]
  },
  {
   "cell_type": "code",
   "execution_count": 1,
   "id": "breathing-server",
   "metadata": {},
   "outputs": [
    {
     "name": "stdout",
     "output_type": "stream",
     "text": [
      "KEEP  \n",
      "CALM  \n",
      "and  \n",
      "CODE  \n",
      "PYTHON\n"
     ]
    }
   ],
   "source": [
    "print('''KEEP  \n",
    "CALM  \n",
    "and  \n",
    "CODE  \n",
    "PYTHON''') "
   ]
  },
  {
   "cell_type": "markdown",
   "id": "liberal-implement",
   "metadata": {},
   "source": [
    "# Activity 6"
   ]
  },
  {
   "cell_type": "markdown",
   "id": "compliant-contribution",
   "metadata": {},
   "source": [
    "# Activity 6\n",
    "\n",
    "1. Create a new code cell.\n",
    "2. Write a program in the code cell that asks a user for their middle name. The program will then display what their middle name is in a full sentence, for example \"Your middle name is Anne\".  \n",
    "    \n",
    "\n",
    "# Steps\n",
    "    \n",
    "1. Select **Insert** and **Insert cell below**.\n",
    "2. Set cell type as **Code**.\n",
    "3. Type: \n",
    "    \n",
    "        name = input(What is your middle name?\")  \n",
    "        print(\"Your middle name is\", name)  \n",
    "    \n",
    "4. Select **Run**.\n",
    "    \n",
    "    </div>"
   ]
  },
  {
   "cell_type": "code",
   "execution_count": null,
   "id": "wrapped-palmer",
   "metadata": {},
   "outputs": [],
   "source": [
    "name = input(\"what is your middle name?\")\n",
    "print(\"your middle name is\", name)"
   ]
  },
  {
   "cell_type": "markdown",
   "id": "collect-modification",
   "metadata": {},
   "source": [
    "# Activity 7"
   ]
  },
  {
   "cell_type": "markdown",
   "id": "perceived-vietnamese",
   "metadata": {},
   "source": [
    "<div class = \"alert alert-block alert-warning\">  \n",
    "    \n",
    "Write a code cell that asks a user for their first name. The program will then write out the lyrics to ‘Happy Birthday’ over multiple lines and will include the user’s name in the song.  \n",
    "    \n",
    "    \n",
    "    \n",
    "**NOTES:**  \n",
    "    \n",
    "* Type the words within **3 single quotes.**  \n",
    "* Select enter where you want a new line.\n",
    "    \n",
    "# Steps\n",
    "    \n",
    "1. Select **Insert** and **Insert cell below**.\n",
    "2. Set cell type as **Code**.\n",
    "3. Type:  \n",
    "    \n",
    "        name = input(\"What is your name?\")  \n",
    "        print('''Happy birthday to you  \n",
    "        Happy birthday to you  \n",
    "        Happy birthday dear''', name, '''  \n",
    "        Happy birthday to you  \n",
    "        ''')\n",
    "       \n",
    "\n",
    "4. Select **Run**.\n",
    "    \n",
    "    </div>"
   ]
  },
  {
   "cell_type": "code",
   "execution_count": null,
   "id": "economic-festival",
   "metadata": {},
   "outputs": [],
   "source": [
    "name = input(\"What is your name?\")\n",
    "print('''Happy birthday to you\n",
    "Happy birthday to you\n",
    "Happy birthday dear''', name, '''\n",
    "Happy birthday to you\n",
    "''')"
   ]
  },
  {
   "cell_type": "markdown",
   "id": "widespread-huntington",
   "metadata": {},
   "source": [
    "# Activity 8"
   ]
  },
  {
   "cell_type": "markdown",
   "id": "vocal-undergraduate",
   "metadata": {},
   "source": [
    "<div class = \"alert alert-block alert-warning\">  \n",
    "    \n",
    "    \n",
    "* Create a code cell that asks a user for their name, their favourite colour and their favourite TV show.  \n",
    "* Display back to the user in a full sentences what their name is, their favourite colour and their favourite TV show.  \n",
    "* For example: **Hi Bob. Your favourite colour is blue and you like to watch Love Island.**\n",
    "    \n",
    "NOTE: Type your text within double quotation marks. \"text...\"\n",
    "    \n",
    "\n",
    "# Steps\n",
    "    \n",
    "1. Select **Insert** and **Insert cell below**.\n",
    "2. Set cell type as **Code**.\n",
    "3. Type: \n",
    "    \n",
    "        name = input(\"What is your name?\")  \n",
    "        colour = input(\"What is your favourite colour?\")  \n",
    "        tv = input(\"What is your favourite TV show?\")  \n",
    "        print(\"Hi\", name, \"your favourite colour is\", colour, \"and you like to watch\", tv)  \n",
    "    \n",
    "4. Select **Run**.\n",
    "    \n",
    "    </div>"
   ]
  },
  {
   "cell_type": "code",
   "execution_count": null,
   "id": "freelance-produce",
   "metadata": {},
   "outputs": [],
   "source": [
    "name = input(\"What is your name? \")\n",
    "colour = input(\"What is your favourite colour? \")\n",
    "tv = input(\"What is your favourite TV show? \")  \n",
    "print(\"Hi\", name, \"your favourite colour is\", colour, \"and you like to watch\", tv)"
   ]
  },
  {
   "cell_type": "markdown",
   "id": "heard-alignment",
   "metadata": {},
   "source": [
    "# Activity 9"
   ]
  },
  {
   "cell_type": "markdown",
   "id": "applicable-grace",
   "metadata": {},
   "source": [
    "<div class = \"alert alert-block alert-warning\">  \n",
    "    \n",
    "1. Create a new code cell.\n",
    "2. Write a program that asks a user to enter 3 numbers. The program will then add these numbers together and display the result to the user in a full sentence.  \n",
    "    \n",
    "\n",
    "# Steps\n",
    "    \n",
    "1. Select **Insert** and **Insert cell below**.\n",
    "2. Set cell type as **Code**.\n",
    "3. Type:  \n",
    "    \n",
    "        no1 = int(input(\"Enter a number: \"))  \n",
    "        no2 = int(input(\"Enter another number: \"))  \n",
    "        no3 = int(input(\"Enter a third number: \"))  \n",
    "        sum = (no1 + no2 + no3)  \n",
    "        print(\"Your numbers add up to \", sum)  \n",
    "    \n",
    "   \n",
    "4. Select **Run**.\n",
    "    \n",
    "    </div>"
   ]
  },
  {
   "cell_type": "code",
   "execution_count": null,
   "id": "perfect-georgia",
   "metadata": {},
   "outputs": [],
   "source": [
    "no1 = int(input(\"Enter a number: \"))\n",
    "no2 = int(input(\"Enter another number: \"))\n",
    "no3 = int(input(\"Enter a third number: \"))\n",
    "sum = (no1 + no2 + no3)\n",
    "print(\"Your numbers add up to \", sum)"
   ]
  },
  {
   "cell_type": "markdown",
   "id": "still-regard",
   "metadata": {},
   "source": [
    "# Activity 10"
   ]
  },
  {
   "cell_type": "markdown",
   "id": "figured-attitude",
   "metadata": {},
   "source": [
    "<div class = \"alert alert-block alert-warning\">  \n",
    "    \n",
    "Write a program that asks a user for 3 numbers. The program will then perform a calculation where it multiplies the first 2 numbers together and will then subtract the final number from this amount. You will need to use parentheses to complete this calculation successfully. The program will display the result to the user in a full sentence.\n",
    "    \n",
    "    \n",
    "# Steps\n",
    "    \n",
    "1. Select **Insert** and **Insert cell below**.\n",
    "2. Set cell type as **Code**.\n",
    "3. Type:  \n",
    "    \n",
    "        no1 = int(input(\"Enter a number: \"))  \n",
    "        no2 = int(input(\"Enter another number: \"))  \n",
    "        no3 = int(input(\"Enter a third number: \"))  \n",
    "        calc = (no1 * no2) - no3   \n",
    "        print(\"Your calculation is \", calc)    \n",
    "    \n",
    "\n",
    "4. Select **Run**.\n",
    "    \n",
    "    </div>"
   ]
  },
  {
   "cell_type": "code",
   "execution_count": null,
   "id": "warming-adams",
   "metadata": {},
   "outputs": [],
   "source": [
    "no1 = int(input(\"Enter a number: \"))  \n",
    "no2 = int(input(\"Enter another number: \"))  \n",
    "no3 = int(input(\"Enter a third number: \"))  \n",
    "calc = (no1 * no2) - no3   \n",
    "print(\"Your calculation is \", calc)  "
   ]
  },
  {
   "cell_type": "markdown",
   "id": "alleged-radius",
   "metadata": {},
   "source": [
    "# Activity 11"
   ]
  },
  {
   "cell_type": "markdown",
   "id": "reserved-agriculture",
   "metadata": {},
   "source": [
    "<div class = \"alert alert-block alert-warning\">  \n",
    "    \n",
    "# Activity 11\n",
    "\n",
    "Write a program that will find the area of a rectangle. The user will be required to enter the required dimensions. You may need to research what the formula is. The program will display the result to the user in a full sentence.\n",
    "    \n",
    "In this example we use **float** instead of **int**. This means the user can input the length and/or width values with a decimal point.   \n",
    "\n",
    "# Steps\n",
    "    \n",
    "1. Select **Insert** and **Insert cell below**.\n",
    "2. Set cell type as **Code**.\n",
    "3. Type:  \n",
    "    \n",
    "        length = float(input(\"Enter the length of the rectangle: \"))  \n",
    "        width = float(input(\"Enter the width of the rectangle: \"))  \n",
    "        area = length * width  \n",
    "        print(\"The area of the rectangle is \", area)  \n",
    "    \n",
    "    \n",
    "4. Select **Run**.\n",
    "    \n",
    "    </div>"
   ]
  },
  {
   "cell_type": "code",
   "execution_count": null,
   "id": "collect-debut",
   "metadata": {},
   "outputs": [],
   "source": [
    "length = float(input(\"Enter the length of the rectangle: \"))\n",
    "width = float(input(\"Enter the width of the rectangle: \"))\n",
    "area = length * width\n",
    "print(\"The area of the rectangle is\", area)"
   ]
  },
  {
   "cell_type": "markdown",
   "id": "acute-amateur",
   "metadata": {},
   "source": [
    "# Activity 12"
   ]
  },
  {
   "cell_type": "markdown",
   "id": "annoying-linux",
   "metadata": {},
   "source": [
    "<div class = \"alert alert-block alert-warning\">  \n",
    "    \n",
    "Write a program that converts kilograms into grams. The program will start by asking the user how many kilograms they would like to convert. It will then perform the calculation and display the result in grams. You will need to research what the formula is to convert kilograms into grams. The program will display the result to the user in a full sentence.\n",
    "    \n",
    "\n",
    "# Steps\n",
    "    \n",
    "1. Select **Insert** and **Insert cell below**.\n",
    "2. Set cell type as **Code**.\n",
    "3. Type:  \n",
    "\n",
    "        kilos = float(input(\"How many kilos do you want to convert? \"))  \n",
    "        grams = kilos * 1000  \n",
    "        print(\"Converting\", kilos \"kilos gives\", grams, \"grams\")  \n",
    "    \n",
    "    \n",
    "4. Select **Run**.\n",
    "    \n",
    "    </div>"
   ]
  },
  {
   "cell_type": "code",
   "execution_count": null,
   "id": "mobile-synthesis",
   "metadata": {},
   "outputs": [],
   "source": [
    "kilos = float(input(\"How many kilos do you want to convert?\"))\n",
    "grams = kilos * 1000\n",
    "print(\"Converting\", kilos,\" kilos gives\", grams, \"grams\")"
   ]
  },
  {
   "cell_type": "markdown",
   "id": "adaptive-addition",
   "metadata": {},
   "source": [
    "# Activity 13"
   ]
  },
  {
   "cell_type": "markdown",
   "id": "herbal-strap",
   "metadata": {},
   "source": [
    "<div class = \"alert alert-block alert-warning\">  \n",
    "    \n",
    "  \n",
    "Write a program that converts centimetres to inches. The program will start by asking the user for the number of centimetres they wish to convert. It will then perform the calculation and display the result in inches. You will need to research what the formula is to convert centimetres into inches. Round your answer up to 2 decimal places. The program will display the result to the user in a full sentence.\n",
    "\n",
    "# Steps\n",
    "    \n",
    "1. Select **Insert** and **Insert cell below**.\n",
    "2. Set cell type as **Code**.\n",
    "\n",
    "3. Type:  \n",
    "    \n",
    "        cm = float(input(\"How many cm do you want to convert? \"))  \n",
    "        inches = cm / 2.54  \n",
    "        inchesround = str(round(inches, 2))  \n",
    "        print(\"Converting\", cm,\" cm gives\", inchesround, \"inches\")  \n",
    "    \n",
    "4. Select **Run**.\n",
    "    \n",
    "    </div>"
   ]
  },
  {
   "cell_type": "code",
   "execution_count": null,
   "id": "saving-details",
   "metadata": {},
   "outputs": [],
   "source": [
    "cm = float(input(\"How many cm do you want to convert? \"))\n",
    "inches = round(cm / 2.54)\n",
    "inchesround = str(round(inches,2))\n",
    "print(\"Converting\",cm,\" cm gives\", inchesround, \"inches\")"
   ]
  },
  {
   "cell_type": "markdown",
   "id": "concerned-correlation",
   "metadata": {},
   "source": [
    "# Activity 14"
   ]
  },
  {
   "cell_type": "markdown",
   "id": "greatest-titanium",
   "metadata": {},
   "source": [
    "<div class = \"alert alert-block alert-warning\">  \n",
    "    \n",
    "1. Create a new code cell.\n",
    "2. Write a program that asks the user if Canberra is the capital city of Australia. If the user answers ‘yes’ then tell them that they are correct. If they answer with anything else, tell them that they have answered incorrectly.  \n",
    "    \n",
    "\n",
    "# Steps\n",
    "    \n",
    "1. Select **Insert** and **Insert cell below**.\n",
    "2. Set cell type as **Code**.\n",
    "3. Type:  \n",
    "        aus_capital = input('What is the capital of Australia? ')\n",
    "        if aus_capital == 'Canberra':  \n",
    "            print('You are correct!')  \n",
    "        else:     \n",
    "            print('Sorry, try again!')\n",
    "    \n",
    "   \n",
    "4. Select **Run**.\n",
    "    \n",
    "    </div>"
   ]
  },
  {
   "cell_type": "code",
   "execution_count": null,
   "id": "invalid-notion",
   "metadata": {},
   "outputs": [],
   "source": [
    "aus_capital = input('What is the capital of Australia? ')\n",
    "if aus_capital == 'Canberra':  \n",
    "     print('You are correct!')  \n",
    "else:     \n",
    "     print('Sorry, try again!')"
   ]
  },
  {
   "cell_type": "markdown",
   "id": "agricultural-madness",
   "metadata": {},
   "source": [
    "# Activity 15"
   ]
  },
  {
   "cell_type": "markdown",
   "id": "joined-anatomy",
   "metadata": {},
   "source": [
    "<div class = \"alert alert-block alert-warning\">  \n",
    "    \n",
    "1. Draw a flowchart on [https://www.draw.io/](https://www.draw.io) for a program that asks a user to enter their exam result (as a number out of 100). If the student obtained 50% or higher, then display a message telling them that they’ve passed. Otherwise, tell the student that they have failed. \n",
    "2. Export this flowchart as 15_exam_result.png\n",
    "3. Once your flowchart is drawn, write the program in Python in a new code cell below. \n",
    "    \n",
    "</div>"
   ]
  },
  {
   "cell_type": "markdown",
   "id": "worst-characterization",
   "metadata": {},
   "source": [
    "# Activity 16"
   ]
  },
  {
   "cell_type": "markdown",
   "id": "quiet-worcester",
   "metadata": {},
   "source": [
    "<div class = \"alert alert-block alert-warning\">  \n",
    "    \n",
    "1. Add a new code cell below.  \n",
    "2. Write a program that asks the user how many hours they spend on their phone per day. \n",
    "* IF it is less than 1 hour, the program says, “That seems reasonable.\"   \n",
    "* ELSE IF it is between 1 and 3 hours per day it says, “It sounds like you're developing an addiction.”   \n",
    "* Anything ELSE, the program says, “You need to get a life!” \n",
    "\n",
    " \n",
    "# Steps\n",
    "    \n",
    "1. Select **Insert** and **Insert cell below**.\n",
    "2. Set cell type as **Code**.\n",
    "3. Type:  \n",
    "\n",
    "           time = float(input(\"How many hours do you spend on your phone each day?: \"))\n",
    "           if time < 1:  \n",
    "                print(\"That seems reasonable\")  \n",
    "            elif 1 <= time <= 3:\n",
    "                print(\"It sounds like you're decveloping an addiction.\")  \n",
    "            else:  \n",
    "                print(\"You need to get a life!\") \n",
    "    \n",
    "4. Select **Run**.\n",
    "    \n",
    "    </div>"
   ]
  },
  {
   "cell_type": "code",
   "execution_count": null,
   "id": "labeled-taiwan",
   "metadata": {},
   "outputs": [],
   "source": [
    "time = float(input(\"How many hours do you spend on your phone each day?: \"))\n",
    "if time < 1:  \n",
    "   print(\"That seems reasonable\")  \n",
    "elif 1 <= time <= 3:\n",
    "   print(\"It sounds like you are developing an addiction.\")  \n",
    "else:  \n",
    "   print(\"You need to get a life!\") "
   ]
  },
  {
   "cell_type": "markdown",
   "id": "together-angle",
   "metadata": {},
   "source": [
    "# Activity 17"
   ]
  },
  {
   "cell_type": "markdown",
   "id": "ordinary-brown",
   "metadata": {},
   "source": [
    "<div class = \"alert alert-block alert-warning\">  \n",
    "    \n",
    "1. Create a new code cell.\n",
    "2. Write a program using a While loop that will display the sentence, “I am learning to code” 25 times.\n",
    "\n",
    "# Steps\n",
    "    \n",
    "1. Select **Insert** and **Insert cell below**.\n",
    "2. Set cell type as **Code**.  \n",
    "    \n",
    "       counter = 1\n",
    "       while counter <=50:\n",
    "         print(\"I am learning to code\")\n",
    "         counter = counter+1\n",
    "   \n",
    "4. Select **Run**.\n",
    "    \n",
    "    </div>"
   ]
  },
  {
   "cell_type": "code",
   "execution_count": null,
   "id": "placed-february",
   "metadata": {},
   "outputs": [],
   "source": [
    "counter = 25\n",
    "while counter <=50:\n",
    "  print(\"I am learning to code\")\n",
    "  counter = counter+1"
   ]
  },
  {
   "cell_type": "markdown",
   "id": "conservative-monte",
   "metadata": {},
   "source": [
    "# Activity 18"
   ]
  },
  {
   "cell_type": "markdown",
   "id": "experimental-enlargement",
   "metadata": {},
   "source": [
    "<div class = \"alert alert-block alert-warning\">  \n",
    "    \n",
    "1. Add a new code cell.  \n",
    "2.\tWrite a program that has the computer generate a random number between 1 and 10. Then, using a While loop, tell the user to try and guess this number. Once the user guesses the correct number, a message is displayed and the game ends. While the user has not guessed the correct number, the game continues to be played.\n",
    "    \n",
    "    \n",
    "# Steps\n",
    "    \n",
    "1. Select **Insert** and **Insert cell below**.\n",
    "2. Set cell type as **Code**.\n",
    "3. Type:  \n",
    "    \n",
    "       import random\n",
    "       number = random.randint(1, 10)\n",
    "       guess = int(input(\"Guess a number between 1 and 10: \"))\n",
    "       while guess != number:\n",
    "            print(\"Sorry, try again\")\n",
    "       print(\"Correct!)\n",
    "   \n",
    "4. Select **Run**.\n",
    "    \n",
    "    </div>"
   ]
  },
  {
   "cell_type": "code",
   "execution_count": null,
   "id": "black-sewing",
   "metadata": {},
   "outputs": [],
   "source": [
    "import random\n",
    "number = random.randint(1, 10)\n",
    "guess = int(input(\"Guess a number between 1 and 10: \"))\n",
    "while guess != number:\n",
    "    print(\"Sorry, try again.\")\n",
    "print(\"Correct!\")"
   ]
  },
  {
   "cell_type": "markdown",
   "id": "outside-telephone",
   "metadata": {},
   "source": [
    "# Activity 19"
   ]
  },
  {
   "cell_type": "markdown",
   "id": "latter-minnesota",
   "metadata": {},
   "source": [
    "<div class = \"alert alert-block alert-warning\">  \n",
    "    \n",
    "1. Add a new code cell below.  \n",
    "2. Write a program using a For loop that displays the numbers 10 to 100 in steps of 5. \n",
    "    \n",
    "# Range function  \n",
    "   \n",
    "Using the range function is helpful here. The range() function returns a sequence of numbers, starting from 0 by default, and increments by 1 (by default), and stops before a specified number. \n",
    "    \n",
    "So in the syntax - **range(start, stop, step)**.  \n",
    "    \n",
    "    **Start** is the first number in your sequence.-  \n",
    "    **Stop** is the last number.  \n",
    "    **Step** is optional  - if you leave it out, the default is 1. You can specify an increment - in our example it will be 5. \n",
    "\n",
    "# Steps\n",
    "    \n",
    "1. Select **Insert** and **Insert cell below**.\n",
    "2. Set cell type as **Code**.\n",
    "3. Type:  \n",
    "\n",
    "        for i in range(10, 100, 5):\n",
    "            print(i)\n",
    "    \n",
    "4. Select **Run**.\n",
    "    \n",
    "    </div>"
   ]
  },
  {
   "cell_type": "code",
   "execution_count": null,
   "id": "interim-forestry",
   "metadata": {},
   "outputs": [],
   "source": [
    "for i in range(10, 100, 5):\n",
    "    print(i)"
   ]
  },
  {
   "cell_type": "markdown",
   "id": "fleet-reward",
   "metadata": {},
   "source": [
    "# Activity 20"
   ]
  },
  {
   "cell_type": "markdown",
   "id": "trained-wildlife",
   "metadata": {},
   "source": [
    "<div class = \"alert alert-block alert-warning\">  \n",
    "    \n",
    "1. Add a new code cell below.  \n",
    "2. Write a program that sets a variable called ‘password’ to abc123. Using a For loop, give the user 3 attempts to guess the password correctly.  \n",
    "* If the guess is correct, print ‘Password accepted’\n",
    "* If the guess is incorrect, print ‘Incorrect’  \n",
    "* If the user has had more than 3 guesses, print ‘Access denied’\n",
    "\n",
    "  \n",
    "\n",
    "# Steps\n",
    "    \n",
    "1. Select **Insert** and **Insert cell below**.\n",
    "2. Set cell type as **Code**.\n",
    "3. Type:  \n",
    "        password = 'abc123'\n",
    "        for v in range(3):\n",
    "            guess = input('Guess the password:')\n",
    "            if (guess==password):\n",
    "                print('Password accepted')\n",
    "                break\n",
    "            else:\n",
    "                print('Incorrect')\n",
    "        else:  \n",
    "            print('Access denied')\n",
    "    \n",
    "    \n",
    "4. Select **Run**.\n",
    "    \n",
    "    </div>"
   ]
  },
  {
   "cell_type": "code",
   "execution_count": null,
   "id": "polish-surfing",
   "metadata": {},
   "outputs": [],
   "source": [
    "password = 'abc123'\n",
    "for v in range(3):\n",
    "    guess = input('Guess the password:')\n",
    "    if (guess==password):\n",
    "        print('Password accepted')\n",
    "        break\n",
    "    else:\n",
    "        print('Incorrect')\n",
    "else:\n",
    "    print('Access denied')"
   ]
  },
  {
   "cell_type": "markdown",
   "id": "angry-nelson",
   "metadata": {},
   "source": [
    "# Activity 21"
   ]
  },
  {
   "cell_type": "markdown",
   "id": "aggressive-poverty",
   "metadata": {},
   "source": [
    "<div class = \"alert alert-block alert-warning\">  \n",
    "    \n",
    "# Activity 21\n",
    "\n",
    "1. Create a new code cell.\n",
    "2.\tWrite a program that will create a list showing all the Premier League football teams that are located in London (2021-2022 season). They are:  \n",
    "    \n",
    "•\tArsenal    \n",
    "•\tBrentford  \n",
    "•\tChelsea  \n",
    "•\tCrystal Palace  \n",
    "•\tTottenham Hotspur  \n",
    "•\tWest Ham United  \n",
    "    \n",
    "Once the list is created, use a For loop to display all items inside of the list.\n",
    "\n",
    "\n",
    "# Steps\n",
    "    \n",
    "1. Select **Insert** and **Insert cell below**.\n",
    "2. Set cell type as **Code**.  \n",
    "    \n",
    "       premier_teams_london = ['Arsenal', 'Brentford', 'Chelsea', 'Crystal Palace', 'Tottenham Hotspur', 'West Ham United']\n",
    "       for team in premier_teams_london:\n",
    "            print(team)\n",
    "4. Select **Run**.\n",
    "    \n",
    "    </div>"
   ]
  },
  {
   "cell_type": "code",
   "execution_count": 1,
   "id": "arctic-cancer",
   "metadata": {},
   "outputs": [
    {
     "name": "stdout",
     "output_type": "stream",
     "text": [
      "Arsenal\n",
      "Brentford\n",
      "Chelsea\n",
      "Crystal Palace\n",
      "Tottenham Hotspur\n",
      "West Ham United\n"
     ]
    }
   ],
   "source": [
    "premier_teams_london = [\n",
    "  'Arsenal',\n",
    "  'Brentford', \n",
    "  'Chelsea', \n",
    "  'Crystal Palace', \n",
    "  'Tottenham Hotspur', \n",
    "  'West Ham United'\n",
    "]\n",
    "for team in premier_teams_london:\n",
    "    print(team)"
   ]
  },
  {
   "cell_type": "markdown",
   "id": "conscious-allergy",
   "metadata": {},
   "source": [
    "# Activity 22"
   ]
  },
  {
   "cell_type": "markdown",
   "id": "functioning-peripheral",
   "metadata": {},
   "source": [
    "<div class = \"alert alert-block alert-warning\">  \n",
    "    \n",
    "# Activity 22\n",
    "\n",
    "\n",
    "1. Add a new code cell.  \n",
    "2.\tWrite a program that will count how many Premier League football teams are from London (in the list you just created in Question 21).\n",
    "    \n",
    "# Steps\n",
    "    \n",
    "1. Select **Insert** and **Insert cell below**.\n",
    "2. Set cell type as **Code**.\n",
    "3. Type:  \n",
    "        \n",
    "        print('There are {} Premier League football teams which are from London'.format( len(premier_teams_london) ))\n",
    "\n",
    "    \n",
    "4. Select **Run**.\n",
    "    \n",
    "    </div>"
   ]
  },
  {
   "cell_type": "code",
   "execution_count": null,
   "id": "skilled-european",
   "metadata": {},
   "outputs": [],
   "source": [
    "print('There are {} Premier League football teams which are from London'.format( len(premier_teams_london) ))"
   ]
  },
  {
   "cell_type": "markdown",
   "id": "robust-gauge",
   "metadata": {},
   "source": [
    "# Activity 23 "
   ]
  },
  {
   "cell_type": "markdown",
   "id": "working-harassment",
   "metadata": {},
   "source": [
    "<div class = \"alert alert-block alert-warning\">  \n",
    "    \n",
    "    \n",
    "# Activity 23\n",
    "\n",
    "1. Add a new code cell below.  \n",
    "2. Write a program that will allow a user to search for a Premier League team in the list that was created earlier. If the team they search for is in the list, then print a message to tell them this. If the team is not in the list, print a different message that tells them this.\n",
    "\n",
    "# Steps\n",
    "    \n",
    "1. Select **Insert** and **Insert cell below**.\n",
    "2. Set cell type as **Code**.\n",
    "3. Type:  \n",
    "\n",
    "        team = input('Enter a Premier League football team to search for:')\n",
    "        if team in premier_teams_london:\n",
    "            print('Team {} is in the list'.format(team))\n",
    "        else:\n",
    "            print('Team {} is not in the list'.format(team))\n",
    "    \n",
    "4. Select **Run**.\n",
    "    \n",
    "    </div>"
   ]
  },
  {
   "cell_type": "code",
   "execution_count": null,
   "id": "mechanical-syndrome",
   "metadata": {},
   "outputs": [],
   "source": [
    "team = input('Enter a Premier League football team based in London to search for:')\n",
    "if team in premier_teams_london:\n",
    "    print('Team {} is in the list'.format(team))\n",
    "else:\n",
    "    print('Team {} is not in the list'.format(team))"
   ]
  },
  {
   "cell_type": "markdown",
   "id": "functional-prediction",
   "metadata": {},
   "source": [
    "# Activity 24"
   ]
  },
  {
   "cell_type": "markdown",
   "id": "growing-antigua",
   "metadata": {},
   "source": [
    "<div class = \"alert alert-block alert-warning\">  \n",
    "    \n",
    "1. Create a new code cell.\n",
    "2. Write a program that creates a 3-question multiple choice quiz, just like the one in the example on the previous page. As the quiz progresses, you need to keep a tally of what the user’s score is (they get 1 point for getting a question correct). At the end of the quiz, display a message that tells the user their score along with a personalised message about how they went.  \n",
    " \n",
    "Your quiz must include the use of two functions:\n",
    "* One function for when the user gets a question correct  \n",
    "* Another function for when the user gets a question incorrect  \n",
    "* This is a tricky question, so you may use ideas from the example quizzes shown in the code cell below. Another example is shown in the image below. \n",
    "\n",
    "# Steps\n",
    "    \n",
    "1. Select **Insert** and **Insert cell below**.\n",
    "2. Set cell type as **Code**.  \n",
    "3. Input your code.   \n",
    "4. Select **Run**.\n",
    "    \n",
    "    </div>"
   ]
  },
  {
   "cell_type": "code",
   "execution_count": null,
   "id": "hollow-middle",
   "metadata": {},
   "outputs": [],
   "source": [
    "questions = [\n",
    "     ['What is 1+2? ', ['a. 1', 'b. 2', 'c. 3'], ['c', '3']],\n",
    "     ['What is the capital of Somalia? ', ['a. Abuja', 'b. Mogadishu', 'c. Kigali'], ['b', 'Mogadishu']],\n",
    "     ['Which US state has the capital Montgomery? ', ['a. Alabama', 'b. Iowa', 'c. Delaware'], ['a', 'Alabama']],\n",
    "]\n",
    "\n",
    "def correct():\n",
    "  global score\n",
    "  score += 1\n",
    "  print('Correct!')\n",
    "\n",
    "def incorrect(answers):\n",
    "  print('Incorrect. The answer is', ' or '.join(answers))\n",
    "\n",
    "score = 0\n",
    "for [question, answers, correct_answers] in questions:\n",
    "    prompt = '\\n{}\\n{}\\n'.format(question, '\\n'.join(answers))\n",
    "    answer = input(prompt)\n",
    "    correct() if answer in correct_answers else incorrect(correct_answers)\n",
    "\n",
    "messages = [\n",
    "  'Embarassing.',\n",
    "  'Better luck next time.',\n",
    "  'Nearly full marks.',\n",
    "  'Well done!',\n",
    "]\n",
    "print('\\nYour score was {}.\\n{}'.format(score, messages[score]))\n"
   ]
  },
  {
   "cell_type": "code",
   "execution_count": null,
   "id": "hydraulic-circumstances",
   "metadata": {},
   "outputs": [],
   "source": []
  }
 ],
 "metadata": {
  "kernelspec": {
   "display_name": "Python 3 (ipykernel)",
   "language": "python",
   "name": "python3"
  },
  "language_info": {
   "codemirror_mode": {
    "name": "ipython",
    "version": 3
   },
   "file_extension": ".py",
   "mimetype": "text/x-python",
   "name": "python",
   "nbconvert_exporter": "python",
   "pygments_lexer": "ipython3",
   "version": "3.9.2"
  }
 },
 "nbformat": 4,
 "nbformat_minor": 5
}
