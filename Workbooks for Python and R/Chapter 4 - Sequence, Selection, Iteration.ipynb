{
 "cells": [
  {
   "cell_type": "markdown",
   "metadata": {},
   "source": [
    "![image](https://raw.githubusercontent.com/willtheorangeguy/Python-Logo-Widgets/master/pythonlogogif.gif?raw=true)  "
   ]
  },
  {
   "cell_type": "markdown",
   "metadata": {},
   "source": [
    "# Sequence, Selection, Iteration"
   ]
  },
  {
   "cell_type": "markdown",
   "metadata": {},
   "source": [
    "# Recap"
   ]
  },
  {
   "cell_type": "markdown",
   "metadata": {},
   "source": [
    "<div class = \"alert alert-block alert-success\">  \n",
    "    \n",
    "Last time, we looked at flowcharts. We covered:\n",
    "\n",
    "* The different symbols used in a flowchart\n",
    "* Adding new cells to notebooks\n",
    "* Creating a flowchart with an online flowchart tool\n",
    "* Addding an image to a notebook\n",
    "    \n",
    "</div>"
   ]
  },
  {
   "cell_type": "markdown",
   "metadata": {},
   "source": [
    "# Learning Objectives"
   ]
  },
  {
   "cell_type": "markdown",
   "metadata": {},
   "source": [
    "<div class = \"alert alert-block alert-success\">  \n",
    "    \n",
    "By the end of this chapter, you will be able to:  \n",
    "\n",
    "* Describe how code is run in sequence\n",
    "* Give an example of using an IF statement to select part of a program\n",
    "* Describe how loops can be used to iterate a line of code\n",
    "* Change a value in code and run the code to see the impact\n",
    "</div>"
   ]
  },
  {
   "cell_type": "markdown",
   "metadata": {},
   "source": [
    "## Legend for colours"
   ]
  },
  {
   "cell_type": "markdown",
   "metadata": {},
   "source": [
    "<div class = \"alert alert-block alert-success\">\n",
    "In <b> green, information </b> is highlighted.\n",
    "</div>\n"
   ]
  },
  {
   "cell_type": "markdown",
   "metadata": {},
   "source": [
    "<div class = \"alert alert-block alert-info\">\n",
    "In <b> blue, YouTube tutorials </b> are highlighted.\n",
    "</div>\n"
   ]
  },
  {
   "cell_type": "markdown",
   "metadata": {},
   "source": [
    "<div class = \"alert alert-block alert-warning\">\n",
    "In <b> yellow, activities </b> are highlighted.\n",
    "</div>\n"
   ]
  },
  {
   "cell_type": "markdown",
   "metadata": {},
   "source": [
    "# Sequence"
   ]
  },
  {
   "cell_type": "markdown",
   "metadata": {},
   "source": [
    "<div class = \"alert alert-block alert-success\">When you write lines of code, there are 3 ways the order of these lines will be processed by a computer: \n",
    "<b>Sequence</b> means that the computer will run your code in order, one line at a time from the top to the bottom of your program. It will start at line 1, then execute line 2 then line 3 and so on until it reaches the last line of your program.  \n",
    "\n",
    "In the example code below, the computer processes the code one line after the other (in a sequence) to find the perimeter of a rectangle:  \n",
    "    \n",
    "          length = int(input(\"Enter the length of the rectangle: \"))\n",
    "          width = int(input(\"Enter the width of the rectangle: \"))\n",
    "          perimeter = 2 * (length + width)\n",
    "          print(\"The perimeter of the rectangle is \", perimeter)\n",
    "\n",
    "\n",
    "</div>"
   ]
  },
  {
   "cell_type": "markdown",
   "metadata": {},
   "source": [
    "## Try out sequences "
   ]
  },
  {
   "cell_type": "markdown",
   "metadata": {},
   "source": [
    "<div class = \"alert alert-block alert-warning\">\n",
    "\n",
    "The sequence of code is written in the cell below.   \n",
    "\n",
    "1. Select the Run button at the top of the window.\n",
    "2. Input a value for length and enter. \n",
    "3. Input a value for width and enter to see the results.  \n",
    "4. Try out using different values for length and width. \n",
    "    </div>"
   ]
  },
  {
   "cell_type": "code",
   "execution_count": 2,
   "metadata": {},
   "outputs": [
    {
     "name": "stdout",
     "output_type": "stream",
     "text": [
      "Enter the length of the rectangle:2\n",
      "Enter the width of the rectangle:3\n",
      "10\n"
     ]
    }
   ],
   "source": [
    "length = int(input(\"Enter the length of the rectangle:\"))\n",
    "width = int(input(\"Enter the width of the rectangle:\"))\n",
    "perimeter = 2 * (length+width)\n",
    "print(perimeter)"
   ]
  },
  {
   "cell_type": "markdown",
   "metadata": {},
   "source": [
    "# Selection"
   ]
  },
  {
   "cell_type": "markdown",
   "metadata": {},
   "source": [
    "<div class = \"alert alert-block alert-success\">\n",
    "    Sometimes you will want certain lines of code to only be run if a condition is met. Otherwise you want the computer to ignore these lines and skip over them.  \n",
    "\n",
    "This is achieved using **IF statements**. For example if a condition is met then lines 4, 5, 6 are executed, otherwise the computer jumps to line 7 without even looking at line 4, 5 and 6.\n",
    "\n",
    "In the code example shown below, we ask the user if it’s dark outside. If it is, then we tell them to turn on a light. If it’s not dark, then we tell them to turn off the light instead. We don’t run all of the code – we just run what is necessary, depending on whether the user types in yes or no.  \n",
    "        \n",
    "    dark = input(\"Is it dark outside?\")\n",
    "    if dark == \"yes\":\n",
    "        print(\"Turn on the light.\")\n",
    "    else:\n",
    "        print(\"Turn off the light.\")\n",
    "\n",
    "</div>"
   ]
  },
  {
   "cell_type": "markdown",
   "metadata": {},
   "source": [
    "## Try out If statements"
   ]
  },
  {
   "cell_type": "markdown",
   "metadata": {},
   "source": [
    "<div class = \"alert alert-block alert-warning\">\n",
    " The sequence of code for the 'turn on the light example' is written in the code cell below.  \n",
    "\n",
    "1. Select the Run button at the top of the window. An input box appears. Type yes and enter.  \n",
    "\n",
    "2. Select Run again. Try typing no or any other text in the input box.\n",
    "</div>"
   ]
  },
  {
   "cell_type": "code",
   "execution_count": null,
   "metadata": {},
   "outputs": [],
   "source": [
    "dark = input(\"Is it dark outside:\")\n",
    "if dark == \"yes\" :\n",
    "    print(\"Turn on the light\")\n",
    "else:\n",
    "    print(\"Turn off the light\")\n"
   ]
  },
  {
   "cell_type": "markdown",
   "metadata": {},
   "source": [
    "# Iteration"
   ]
  },
  {
   "cell_type": "markdown",
   "metadata": {},
   "source": [
    "<div class = \"alert alert-block alert-success\">\n",
    "Sometimes you want the computer to execute the same lines of code several times. This is done using a loop. There are 2 types of loops in Python, **For loops** and **While loops.** Loops are handy as you don’t have to write the same lines of code many times.  \n",
    "    \n",
    "\n",
    "In the code example below, the computer prints “Carry on playing…” and makes the timer countdown over and over (looping the code) until the timer reaches 0.  \n",
    "    \n",
    "When the timer reaches 0, it stops running those 2 lines of code, jumps out of the loop and moves on to processing the next section of code.  \n",
    "    \n",
    "    timer = 10\n",
    "    while timer > 0:\n",
    "        print(\"Carry on playing...\")\n",
    "        timer = timer -1\n",
    "\n",
    " </div>"
   ]
  },
  {
   "cell_type": "markdown",
   "metadata": {},
   "source": [
    "## Try out loops"
   ]
  },
  {
   "cell_type": "markdown",
   "metadata": {},
   "source": [
    "<div class = \"alert alert-block alert-warning\">\n",
    "The sequence of code for the 'timer' example is written in the code cell below.  \n",
    "\n",
    "1. Select the Run button at the top of the window. \n",
    "2. Try different values for timer. What happens when you try 0?\n",
    "    \n",
    "    </div>\n"
   ]
  },
  {
   "cell_type": "code",
   "execution_count": 3,
   "metadata": {},
   "outputs": [
    {
     "name": "stdout",
     "output_type": "stream",
     "text": [
      "Carry on playing...\n",
      "Carry on playing...\n",
      "Carry on playing...\n",
      "Carry on playing...\n",
      "Carry on playing...\n",
      "Carry on playing...\n",
      "Carry on playing...\n",
      "Carry on playing...\n",
      "Carry on playing...\n",
      "Carry on playing...\n",
      "Carry on playing...\n",
      "Carry on playing...\n"
     ]
    }
   ],
   "source": [
    "timer = 12\n",
    "\n",
    "while timer > 0: \n",
    "    print(\"Carry on playing...\")\n",
    "    timer = timer -1"
   ]
  },
  {
   "cell_type": "markdown",
   "metadata": {},
   "source": [
    "[![CC BY 4.0][cc-by-shield]][cc-by] \n",
    "\n",
    "This work is licensed under a \n",
    "\n",
    "[Creative Commons Attribution 4.0 International License][cc-by]. \n",
    "\n",
    "[![CC BY 4.0][cc-by-image]][cc-by] \n",
    "\n",
    "To view a copy of this license, visit http://creativecommons.org/licenses/by/4.0/ or send a letter to Creative Commons, PO Box 1866, Mountain View, CA 94042, USA. \n",
    "\n",
    "[cc-by]: http://creativecommons.org/licenses/by/4.0/ \n",
    "\n",
    "[cc-by-image]: https://i.creativecommons.org/l/by/4.0/88x31.png \n",
    "\n",
    "[cc-by-shield]: https://img.shields.io/badge/License-CC%20BY%204.0-lightgrey.svg "
   ]
  },
  {
   "cell_type": "markdown",
   "metadata": {},
   "source": [
    "![Noteable.ac.uk Banner](https://github.com/jstix/everything-noteable/blob/master/CLPL%20Banner/Header%20for%20Github%20-%20CLPL%20materials%20.png?raw=true)  "
   ]
  },
  {
   "cell_type": "code",
   "execution_count": null,
   "metadata": {},
   "outputs": [],
   "source": []
  }
 ],
 "metadata": {
  "kernelspec": {
   "display_name": "Python 3 (ipykernel)",
   "language": "python",
   "name": "python3"
  },
  "language_info": {
   "codemirror_mode": {
    "name": "ipython",
    "version": 3
   },
   "file_extension": ".py",
   "mimetype": "text/x-python",
   "name": "python",
   "nbconvert_exporter": "python",
   "pygments_lexer": "ipython3",
   "version": "3.9.2"
  }
 },
 "nbformat": 4,
 "nbformat_minor": 2
}
